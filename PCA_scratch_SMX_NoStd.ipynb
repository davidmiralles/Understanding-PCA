{
 "cells": [
  {
   "cell_type": "markdown",
   "id": "c1cded24",
   "metadata": {},
   "source": [
    "# PCA from scracth on SMX "
   ]
  },
  {
   "cell_type": "code",
   "execution_count": 60,
   "id": "0562934f",
   "metadata": {},
   "outputs": [],
   "source": [
    "import numpy as np\n",
    "import pandas as pd\n",
    "from sklearn.preprocessing import StandardScaler\n",
    "import matplotlib.pyplot as plt"
   ]
  },
  {
   "cell_type": "markdown",
   "id": "b2cbf709",
   "metadata": {},
   "source": [
    "## Carreguem el Dataset"
   ]
  },
  {
   "cell_type": "code",
   "execution_count": 3,
   "id": "7005fac8",
   "metadata": {},
   "outputs": [],
   "source": [
    "#Haptic_BL\n",
    "SMX_h_BL = pd.read_csv('SMX_h_25.csv', names=['cub10','lat00','lat05','lat15','lat20','lon00','lon05','lon15','lon20'])"
   ]
  },
  {
   "cell_type": "code",
   "execution_count": 63,
   "id": "9a86c6a1",
   "metadata": {},
   "outputs": [
    {
     "data": {
      "text/html": [
       "<div>\n",
       "<style scoped>\n",
       "    .dataframe tbody tr th:only-of-type {\n",
       "        vertical-align: middle;\n",
       "    }\n",
       "\n",
       "    .dataframe tbody tr th {\n",
       "        vertical-align: top;\n",
       "    }\n",
       "\n",
       "    .dataframe thead th {\n",
       "        text-align: right;\n",
       "    }\n",
       "</style>\n",
       "<table border=\"1\" class=\"dataframe\">\n",
       "  <thead>\n",
       "    <tr style=\"text-align: right;\">\n",
       "      <th></th>\n",
       "      <th>0</th>\n",
       "      <th>1</th>\n",
       "      <th>2</th>\n",
       "      <th>3</th>\n",
       "      <th>4</th>\n",
       "      <th>5</th>\n",
       "      <th>6</th>\n",
       "      <th>7</th>\n",
       "      <th>8</th>\n",
       "      <th>9</th>\n",
       "      <th>10</th>\n",
       "      <th>11</th>\n",
       "    </tr>\n",
       "  </thead>\n",
       "  <tbody>\n",
       "    <tr>\n",
       "      <th>0</th>\n",
       "      <td>0.0</td>\n",
       "      <td>85.460458</td>\n",
       "      <td>1.647364</td>\n",
       "      <td>12.892178</td>\n",
       "      <td>0.000000</td>\n",
       "      <td>0.000000</td>\n",
       "      <td>0.000000</td>\n",
       "      <td>0.000000</td>\n",
       "      <td>0.000000</td>\n",
       "      <td>0.000000</td>\n",
       "      <td>0.000000</td>\n",
       "      <td>0.000000</td>\n",
       "    </tr>\n",
       "    <tr>\n",
       "      <th>1</th>\n",
       "      <td>0.0</td>\n",
       "      <td>0.000000</td>\n",
       "      <td>90.240466</td>\n",
       "      <td>8.175665</td>\n",
       "      <td>1.583869</td>\n",
       "      <td>0.000000</td>\n",
       "      <td>0.000000</td>\n",
       "      <td>0.000000</td>\n",
       "      <td>0.000000</td>\n",
       "      <td>0.000000</td>\n",
       "      <td>0.000000</td>\n",
       "      <td>0.000000</td>\n",
       "    </tr>\n",
       "    <tr>\n",
       "      <th>2</th>\n",
       "      <td>0.0</td>\n",
       "      <td>1.583869</td>\n",
       "      <td>0.000000</td>\n",
       "      <td>63.976330</td>\n",
       "      <td>19.268024</td>\n",
       "      <td>14.425562</td>\n",
       "      <td>0.746215</td>\n",
       "      <td>0.000000</td>\n",
       "      <td>0.000000</td>\n",
       "      <td>0.000000</td>\n",
       "      <td>0.000000</td>\n",
       "      <td>0.000000</td>\n",
       "    </tr>\n",
       "    <tr>\n",
       "      <th>3</th>\n",
       "      <td>0.0</td>\n",
       "      <td>0.952381</td>\n",
       "      <td>0.710681</td>\n",
       "      <td>0.000000</td>\n",
       "      <td>66.926911</td>\n",
       "      <td>16.966210</td>\n",
       "      <td>0.000000</td>\n",
       "      <td>13.799208</td>\n",
       "      <td>0.644609</td>\n",
       "      <td>0.000000</td>\n",
       "      <td>0.000000</td>\n",
       "      <td>0.000000</td>\n",
       "    </tr>\n",
       "    <tr>\n",
       "      <th>4</th>\n",
       "      <td>0.0</td>\n",
       "      <td>0.000000</td>\n",
       "      <td>0.000000</td>\n",
       "      <td>3.899002</td>\n",
       "      <td>0.000000</td>\n",
       "      <td>73.039755</td>\n",
       "      <td>20.506850</td>\n",
       "      <td>1.647364</td>\n",
       "      <td>0.907029</td>\n",
       "      <td>0.000000</td>\n",
       "      <td>0.000000</td>\n",
       "      <td>0.000000</td>\n",
       "    </tr>\n",
       "    <tr>\n",
       "      <th>5</th>\n",
       "      <td>0.0</td>\n",
       "      <td>0.000000</td>\n",
       "      <td>0.000000</td>\n",
       "      <td>0.907029</td>\n",
       "      <td>6.033634</td>\n",
       "      <td>0.000000</td>\n",
       "      <td>83.670606</td>\n",
       "      <td>5.328914</td>\n",
       "      <td>4.059816</td>\n",
       "      <td>0.000000</td>\n",
       "      <td>0.000000</td>\n",
       "      <td>0.000000</td>\n",
       "    </tr>\n",
       "    <tr>\n",
       "      <th>6</th>\n",
       "      <td>0.0</td>\n",
       "      <td>0.000000</td>\n",
       "      <td>0.000000</td>\n",
       "      <td>0.000000</td>\n",
       "      <td>13.675704</td>\n",
       "      <td>5.491594</td>\n",
       "      <td>0.000000</td>\n",
       "      <td>63.413208</td>\n",
       "      <td>15.925286</td>\n",
       "      <td>1.494207</td>\n",
       "      <td>0.000000</td>\n",
       "      <td>0.000000</td>\n",
       "    </tr>\n",
       "    <tr>\n",
       "      <th>7</th>\n",
       "      <td>0.0</td>\n",
       "      <td>0.000000</td>\n",
       "      <td>0.000000</td>\n",
       "      <td>0.907029</td>\n",
       "      <td>0.000000</td>\n",
       "      <td>0.822702</td>\n",
       "      <td>15.927063</td>\n",
       "      <td>0.000000</td>\n",
       "      <td>74.961454</td>\n",
       "      <td>4.150519</td>\n",
       "      <td>2.447706</td>\n",
       "      <td>0.783526</td>\n",
       "    </tr>\n",
       "    <tr>\n",
       "      <th>8</th>\n",
       "      <td>0.0</td>\n",
       "      <td>0.000000</td>\n",
       "      <td>0.000000</td>\n",
       "      <td>0.000000</td>\n",
       "      <td>1.596990</td>\n",
       "      <td>2.550378</td>\n",
       "      <td>12.892178</td>\n",
       "      <td>3.231233</td>\n",
       "      <td>0.000000</td>\n",
       "      <td>34.732215</td>\n",
       "      <td>29.703591</td>\n",
       "      <td>15.293415</td>\n",
       "    </tr>\n",
       "    <tr>\n",
       "      <th>9</th>\n",
       "      <td>0.0</td>\n",
       "      <td>0.000000</td>\n",
       "      <td>0.000000</td>\n",
       "      <td>0.000000</td>\n",
       "      <td>0.000000</td>\n",
       "      <td>0.000000</td>\n",
       "      <td>0.783526</td>\n",
       "      <td>2.927677</td>\n",
       "      <td>7.056589</td>\n",
       "      <td>0.000000</td>\n",
       "      <td>86.375065</td>\n",
       "      <td>2.857143</td>\n",
       "    </tr>\n",
       "    <tr>\n",
       "      <th>10</th>\n",
       "      <td>0.0</td>\n",
       "      <td>0.000000</td>\n",
       "      <td>0.000000</td>\n",
       "      <td>0.000000</td>\n",
       "      <td>0.822702</td>\n",
       "      <td>12.892178</td>\n",
       "      <td>0.000000</td>\n",
       "      <td>15.441549</td>\n",
       "      <td>0.000000</td>\n",
       "      <td>4.721536</td>\n",
       "      <td>0.000000</td>\n",
       "      <td>66.122034</td>\n",
       "    </tr>\n",
       "    <tr>\n",
       "      <th>11</th>\n",
       "      <td>0.0</td>\n",
       "      <td>0.000000</td>\n",
       "      <td>0.710681</td>\n",
       "      <td>0.000000</td>\n",
       "      <td>0.000000</td>\n",
       "      <td>1.321448</td>\n",
       "      <td>0.000000</td>\n",
       "      <td>0.000000</td>\n",
       "      <td>1.647364</td>\n",
       "      <td>0.000000</td>\n",
       "      <td>96.320507</td>\n",
       "      <td>0.000000</td>\n",
       "    </tr>\n",
       "  </tbody>\n",
       "</table>\n",
       "</div>"
      ],
      "text/plain": [
       "     0          1          2          3          4          5          6   \\\n",
       "0   0.0  85.460458   1.647364  12.892178   0.000000   0.000000   0.000000   \n",
       "1   0.0   0.000000  90.240466   8.175665   1.583869   0.000000   0.000000   \n",
       "2   0.0   1.583869   0.000000  63.976330  19.268024  14.425562   0.746215   \n",
       "3   0.0   0.952381   0.710681   0.000000  66.926911  16.966210   0.000000   \n",
       "4   0.0   0.000000   0.000000   3.899002   0.000000  73.039755  20.506850   \n",
       "5   0.0   0.000000   0.000000   0.907029   6.033634   0.000000  83.670606   \n",
       "6   0.0   0.000000   0.000000   0.000000  13.675704   5.491594   0.000000   \n",
       "7   0.0   0.000000   0.000000   0.907029   0.000000   0.822702  15.927063   \n",
       "8   0.0   0.000000   0.000000   0.000000   1.596990   2.550378  12.892178   \n",
       "9   0.0   0.000000   0.000000   0.000000   0.000000   0.000000   0.783526   \n",
       "10  0.0   0.000000   0.000000   0.000000   0.822702  12.892178   0.000000   \n",
       "11  0.0   0.000000   0.710681   0.000000   0.000000   1.321448   0.000000   \n",
       "\n",
       "           7          8          9          10         11  \n",
       "0    0.000000   0.000000   0.000000   0.000000   0.000000  \n",
       "1    0.000000   0.000000   0.000000   0.000000   0.000000  \n",
       "2    0.000000   0.000000   0.000000   0.000000   0.000000  \n",
       "3   13.799208   0.644609   0.000000   0.000000   0.000000  \n",
       "4    1.647364   0.907029   0.000000   0.000000   0.000000  \n",
       "5    5.328914   4.059816   0.000000   0.000000   0.000000  \n",
       "6   63.413208  15.925286   1.494207   0.000000   0.000000  \n",
       "7    0.000000  74.961454   4.150519   2.447706   0.783526  \n",
       "8    3.231233   0.000000  34.732215  29.703591  15.293415  \n",
       "9    2.927677   7.056589   0.000000  86.375065   2.857143  \n",
       "10  15.441549   0.000000   4.721536   0.000000  66.122034  \n",
       "11   0.000000   1.647364   0.000000  96.320507   0.000000  "
      ]
     },
     "execution_count": 63,
     "metadata": {},
     "output_type": "execute_result"
    }
   ],
   "source": [
    "#Haptic_BL_Lat\n",
    "SMX_h_Lat = pd.DataFrame(np.load(\"Lat_SMX_(10_Samples).npy\"))\n",
    "SMX_h_Lat"
   ]
  },
  {
   "cell_type": "code",
   "execution_count": 4,
   "id": "a8f41f3b",
   "metadata": {},
   "outputs": [],
   "source": [
    "#Visual_BL\n",
    "SMX_v_BL = pd.read_csv('SMX_v_1.csv', names=['cub10','lat00','lat05','lat15','lat20','lon00','lon05','lon15','lon20'])"
   ]
  },
  {
   "cell_type": "code",
   "execution_count": 5,
   "id": "89da23ac",
   "metadata": {},
   "outputs": [],
   "source": [
    "#Haptic_UK\n",
    "SMX_h_UK = pd.read_csv('SMX_h_25_UK.csv', names=['cub10','lat00','lat05','lat15','lat20','lon00','lon05','lon15','lon20'])"
   ]
  },
  {
   "cell_type": "code",
   "execution_count": 6,
   "id": "82a4f496",
   "metadata": {},
   "outputs": [],
   "source": [
    "#Visual_UK\n",
    "SMX_v_UK = pd.read_csv('SMX_v_1_UK.csv', names=['cub10','lat00','lat05','lat15','lat20','lon00','lon05','lon15','lon20'])"
   ]
  },
  {
   "cell_type": "markdown",
   "id": "49fc3864",
   "metadata": {},
   "source": [
    "## Calculem la matriu de covariàncies"
   ]
  },
  {
   "cell_type": "code",
   "execution_count": 7,
   "id": "8783394b",
   "metadata": {
    "scrolled": true
   },
   "outputs": [],
   "source": [
    "cov_mat_h_BL = np.cov(SMX_h_BL.T, bias = 0)"
   ]
  },
  {
   "cell_type": "code",
   "execution_count": 7,
   "id": "5757446f",
   "metadata": {
    "scrolled": true
   },
   "outputs": [],
   "source": [
    "cov_mat_h_Lat = np.cov(SMX_h_Lat.T, bias = 0)"
   ]
  },
  {
   "cell_type": "code",
   "execution_count": 8,
   "id": "bf1f311e",
   "metadata": {
    "scrolled": true
   },
   "outputs": [],
   "source": [
    "cov_mat_v_BL = np.cov(SMX_v_BL.T, bias = 0)"
   ]
  },
  {
   "cell_type": "markdown",
   "id": "b2026e65",
   "metadata": {},
   "source": [
    "## Calculem els vectors i valors propis de la matriu de covariàncies"
   ]
  },
  {
   "cell_type": "code",
   "execution_count": 9,
   "id": "36b3d122",
   "metadata": {},
   "outputs": [],
   "source": [
    "eigen_val_h, eigen_vectors_h = np.linalg.eig(cov_mat_h_BL)"
   ]
  },
  {
   "cell_type": "code",
   "execution_count": 9,
   "id": "d6a7cf41",
   "metadata": {},
   "outputs": [],
   "source": [
    "eigen_val_h, eigen_vectors_h = np.linalg.eig(cov_mat_h_Lat)"
   ]
  },
  {
   "cell_type": "code",
   "execution_count": 45,
   "id": "7d16bf5f",
   "metadata": {},
   "outputs": [
    {
     "name": "stdout",
     "output_type": "stream",
     "text": [
      "[2.85421378e+00 2.28250008e+00 1.61733260e+00 1.42237058e+00\n",
      " 9.85434723e-01 6.98494717e-01 8.36560501e-17 3.96048228e-02\n",
      " 2.25048696e-01]\n"
     ]
    }
   ],
   "source": [
    "print(eigen_val_h)"
   ]
  },
  {
   "cell_type": "code",
   "execution_count": 10,
   "id": "0a324bf8",
   "metadata": {},
   "outputs": [],
   "source": [
    "eigen_val_v, eigen_vectors_v = np.linalg.eig(cov_mat_v_BL)"
   ]
  },
  {
   "cell_type": "markdown",
   "id": "6743b8f2",
   "metadata": {},
   "source": [
    "## Escollim la dimensionalitat més representativa"
   ]
  },
  {
   "cell_type": "code",
   "execution_count": 11,
   "id": "eaf75c77",
   "metadata": {},
   "outputs": [],
   "source": [
    "n_components=2"
   ]
  },
  {
   "cell_type": "code",
   "execution_count": 12,
   "id": "db863991",
   "metadata": {},
   "outputs": [],
   "source": [
    "top_eigen_vectors_h = eigen_vectors_h[:,:n_components]"
   ]
  },
  {
   "cell_type": "code",
   "execution_count": 13,
   "id": "c30087e3",
   "metadata": {},
   "outputs": [],
   "source": [
    "top_eigen_vectors_v = eigen_vectors_v[:,:n_components]"
   ]
  },
  {
   "cell_type": "code",
   "execution_count": 50,
   "id": "8d503d58",
   "metadata": {},
   "outputs": [],
   "source": [
    "#Poden tenir components imaginàries. Agafem la part real.\n",
    "top_eigen_vectors_vr = top_eigen_vectors_v.real"
   ]
  },
  {
   "cell_type": "markdown",
   "id": "c1f6311b",
   "metadata": {},
   "source": [
    "## Tranformem les dades hàptiques i visuals en l'espai latent hàptic"
   ]
  },
  {
   "cell_type": "code",
   "execution_count": 14,
   "id": "fc56768a",
   "metadata": {},
   "outputs": [],
   "source": [
    "transformed_ppal_h_BL = np.matmul(np.array(SMX_h_BL),top_eigen_vectors_h)"
   ]
  },
  {
   "cell_type": "code",
   "execution_count": 68,
   "id": "f24adc27",
   "metadata": {},
   "outputs": [
    {
     "ename": "ValueError",
     "evalue": "matmul: Input operand 1 has a mismatch in its core dimension 0, with gufunc signature (n?,k),(k,m?)->(n?,m?) (size 9 is different from 12)",
     "output_type": "error",
     "traceback": [
      "\u001b[1;31m---------------------------------------------------------------------------\u001b[0m",
      "\u001b[1;31mValueError\u001b[0m                                Traceback (most recent call last)",
      "\u001b[1;32m~\\AppData\\Local\\Temp\\ipykernel_10752\\2119244970.py\u001b[0m in \u001b[0;36m<module>\u001b[1;34m\u001b[0m\n\u001b[1;32m----> 1\u001b[1;33m \u001b[0mtransformed_ppal_h_Lat\u001b[0m \u001b[1;33m=\u001b[0m \u001b[0mnp\u001b[0m\u001b[1;33m.\u001b[0m\u001b[0mmatmul\u001b[0m\u001b[1;33m(\u001b[0m\u001b[0mnp\u001b[0m\u001b[1;33m.\u001b[0m\u001b[0marray\u001b[0m\u001b[1;33m(\u001b[0m\u001b[0mSMX_h_Lat\u001b[0m\u001b[1;33m)\u001b[0m\u001b[1;33m,\u001b[0m\u001b[0mtop_eigen_vectors_h\u001b[0m\u001b[1;33m)\u001b[0m\u001b[1;33m\u001b[0m\u001b[1;33m\u001b[0m\u001b[0m\n\u001b[0m",
      "\u001b[1;31mValueError\u001b[0m: matmul: Input operand 1 has a mismatch in its core dimension 0, with gufunc signature (n?,k),(k,m?)->(n?,m?) (size 9 is different from 12)"
     ]
    }
   ],
   "source": [
    "transformed_ppal_h_Lat = np.matmul(np.array(SMX_h_Lat),top_eigen_vectors_h)"
   ]
  },
  {
   "cell_type": "code",
   "execution_count": 15,
   "id": "a7edeb18",
   "metadata": {},
   "outputs": [],
   "source": [
    "transformed_ppal_v_BL = np.matmul(np.array(SMX_v_BL),top_eigen_vectors_h)\n",
    "#print(transformed_ppal_v)"
   ]
  },
  {
   "cell_type": "code",
   "execution_count": 16,
   "id": "23e4576e",
   "metadata": {},
   "outputs": [],
   "source": [
    "transformed_ppal_h_UK = np.matmul(np.array(SMX_h_UK),top_eigen_vectors_h)"
   ]
  },
  {
   "cell_type": "code",
   "execution_count": 17,
   "id": "845adccb",
   "metadata": {},
   "outputs": [],
   "source": [
    "transformed_ppal_v_UK = np.matmul(np.array(SMX_v_UK),top_eigen_vectors_h)\n",
    "#print(transformed_ppal_v)"
   ]
  },
  {
   "cell_type": "code",
   "execution_count": 55,
   "id": "2214d84c",
   "metadata": {},
   "outputs": [],
   "source": [
    "#inv=np.linalg.pinv(top_eigen_vectors_v)\n",
    "#predict_visual=np.matmul(transformed_ppal_h,inv)\n",
    "#transformed_ppal_v2 = np.matmul(predict_visual,top_eigen_vectors_v)\n",
    "#print(transformed_ppal_v2)"
   ]
  },
  {
   "cell_type": "markdown",
   "id": "5dbcff56",
   "metadata": {},
   "source": [
    "## Normalitzem els vectors de l'espai latent de cada mode i mirem correlació"
   ]
  },
  {
   "cell_type": "code",
   "execution_count": 18,
   "id": "8ed33875",
   "metadata": {},
   "outputs": [],
   "source": [
    "result_h_BL = transformed_ppal_h_BL / np.linalg.norm(transformed_ppal_h_BL, axis=-1)[:, np.newaxis]"
   ]
  },
  {
   "cell_type": "code",
   "execution_count": 18,
   "id": "ce04145b",
   "metadata": {},
   "outputs": [],
   "source": [
    "result_h_Lat = transformed_ppal_h_Lat / np.linalg.norm(transformed_ppal_h_Lat, axis=-1)[:, np.newaxis]"
   ]
  },
  {
   "cell_type": "code",
   "execution_count": 19,
   "id": "c302c6ea",
   "metadata": {},
   "outputs": [],
   "source": [
    "result_v_BL = transformed_ppal_v_BL / np.linalg.norm(transformed_ppal_v_BL, axis=-1)[:, np.newaxis]"
   ]
  },
  {
   "cell_type": "code",
   "execution_count": 20,
   "id": "1b1e68a9",
   "metadata": {},
   "outputs": [],
   "source": [
    "result_h_UK = transformed_ppal_h_UK / np.linalg.norm(transformed_ppal_h_UK, axis=-1)[:, np.newaxis]"
   ]
  },
  {
   "cell_type": "code",
   "execution_count": 21,
   "id": "93d3e28b",
   "metadata": {},
   "outputs": [],
   "source": [
    "result_v_UK = transformed_ppal_v_UK / np.linalg.norm(transformed_ppal_v_UK, axis=-1)[:, np.newaxis]"
   ]
  },
  {
   "cell_type": "code",
   "execution_count": 60,
   "id": "3e700091",
   "metadata": {},
   "outputs": [],
   "source": [
    "#result_v2 = transformed_ppal_v2 / np.linalg.norm(transformed_ppal_v2, axis=-1)[:, np.newaxis]\n",
    "#print(result_v2)"
   ]
  },
  {
   "cell_type": "code",
   "execution_count": 22,
   "id": "5dd3a417",
   "metadata": {},
   "outputs": [
    {
     "name": "stdout",
     "output_type": "stream",
     "text": [
      "0.9930916706860583\n"
     ]
    }
   ],
   "source": [
    "corr = 0\n",
    "for i in range(len(result_v_BL)):\n",
    "    corr += result_h_BL[i,:].dot(result_v_BL[i,:])\n",
    "    \n",
    "print(corr/len(result_v_BL))"
   ]
  },
  {
   "cell_type": "code",
   "execution_count": 23,
   "id": "60910b8d",
   "metadata": {},
   "outputs": [
    {
     "name": "stdout",
     "output_type": "stream",
     "text": [
      "0.9261205596552698\n"
     ]
    }
   ],
   "source": [
    "corr = 0\n",
    "for i in range(len(result_v_UK)):\n",
    "    corr += result_h_UK[i,:].dot(result_v_UK[i,:])\n",
    "    \n",
    "print(corr/len(result_v_UK))"
   ]
  },
  {
   "cell_type": "markdown",
   "id": "27ede390",
   "metadata": {},
   "source": [
    "## Panderitzem les dades abans de fer el plot"
   ]
  },
  {
   "cell_type": "code",
   "execution_count": 24,
   "id": "2e06d563",
   "metadata": {},
   "outputs": [],
   "source": [
    "principalSMX_h_BL = pd.DataFrame(data = transformed_ppal_h_BL\n",
    "             , columns = ['principal component 1', 'principal component 2'])"
   ]
  },
  {
   "cell_type": "code",
   "execution_count": 66,
   "id": "6350e940",
   "metadata": {},
   "outputs": [
    {
     "ename": "NameError",
     "evalue": "name 'transformed_ppal_h_Lat' is not defined",
     "output_type": "error",
     "traceback": [
      "\u001b[1;31m---------------------------------------------------------------------------\u001b[0m",
      "\u001b[1;31mNameError\u001b[0m                                 Traceback (most recent call last)",
      "\u001b[1;32m~\\AppData\\Local\\Temp\\ipykernel_10752\\3345301862.py\u001b[0m in \u001b[0;36m<module>\u001b[1;34m\u001b[0m\n\u001b[1;32m----> 1\u001b[1;33m principalSMX_h_Lat = pd.DataFrame(data = transformed_ppal_h_Lat\n\u001b[0m\u001b[0;32m      2\u001b[0m              , columns = ['principal component 1', 'principal component 2'])\n",
      "\u001b[1;31mNameError\u001b[0m: name 'transformed_ppal_h_Lat' is not defined"
     ]
    }
   ],
   "source": [
    "principalSMX_h_Lat = pd.DataFrame(data = transformed_ppal_h_Lat\n",
    "             , columns = ['principal component 1', 'principal component 2'])"
   ]
  },
  {
   "cell_type": "code",
   "execution_count": 67,
   "id": "6ca75fd6",
   "metadata": {},
   "outputs": [],
   "source": [
    "principalSMX_v_BL = pd.DataFrame(data = transformed_ppal_v_BL\n",
    "             , columns = ['principal component 1', 'principal component 2'])"
   ]
  },
  {
   "cell_type": "code",
   "execution_count": 26,
   "id": "f543dbca",
   "metadata": {},
   "outputs": [],
   "source": [
    "principalSMX_h_UK = pd.DataFrame(data = transformed_ppal_h_UK\n",
    "             , columns = ['principal component 1', 'principal component 2'])"
   ]
  },
  {
   "cell_type": "code",
   "execution_count": 27,
   "id": "91ea01ed",
   "metadata": {},
   "outputs": [],
   "source": [
    "principalSMX_v_UK = pd.DataFrame(data = transformed_ppal_v_UK\n",
    "             , columns = ['principal component 1', 'principal component 2'])"
   ]
  },
  {
   "cell_type": "code",
   "execution_count": 28,
   "id": "ff7ad641",
   "metadata": {},
   "outputs": [],
   "source": [
    "objectes_BL =  ['cub10','lat00','lat05','lat15','lat20','lon00','lon05','lon15','lon20']"
   ]
  },
  {
   "cell_type": "code",
   "execution_count": 29,
   "id": "11403999",
   "metadata": {},
   "outputs": [],
   "source": [
    "objectes_UK =  ['00-15','00-20','05-15','05-20','15-15','15-20','20-15','20-20']"
   ]
  },
  {
   "cell_type": "markdown",
   "id": "49c38e30",
   "metadata": {},
   "source": [
    "## Plot"
   ]
  },
  {
   "cell_type": "code",
   "execution_count": 65,
   "id": "834857d2",
   "metadata": {},
   "outputs": [
    {
     "ename": "NameError",
     "evalue": "name 'principalSMX_h_Lat' is not defined",
     "output_type": "error",
     "traceback": [
      "\u001b[1;31m---------------------------------------------------------------------------\u001b[0m",
      "\u001b[1;31mNameError\u001b[0m                                 Traceback (most recent call last)",
      "\u001b[1;32m~\\AppData\\Local\\Temp\\ipykernel_10752\\4726319.py\u001b[0m in \u001b[0;36m<module>\u001b[1;34m\u001b[0m\n\u001b[0;32m     12\u001b[0m \u001b[1;33m\u001b[0m\u001b[0m\n\u001b[0;32m     13\u001b[0m \u001b[1;33m\u001b[0m\u001b[0m\n\u001b[1;32m---> 14\u001b[1;33m ax.scatter(principalSMX_h_Lat.loc[:,'principal component 1']\n\u001b[0m\u001b[0;32m     15\u001b[0m                \u001b[1;33m,\u001b[0m \u001b[0mprincipalSMX_h_Lat\u001b[0m\u001b[1;33m.\u001b[0m\u001b[0mloc\u001b[0m\u001b[1;33m[\u001b[0m\u001b[1;33m:\u001b[0m\u001b[1;33m,\u001b[0m\u001b[1;34m'principal component 2'\u001b[0m\u001b[1;33m]\u001b[0m\u001b[1;33m\u001b[0m\u001b[1;33m\u001b[0m\u001b[0m\n\u001b[0;32m     16\u001b[0m                \u001b[1;33m,\u001b[0m \u001b[0mc\u001b[0m \u001b[1;33m=\u001b[0m \u001b[1;34m'tab:orange'\u001b[0m\u001b[1;33m,\u001b[0m \u001b[0mlabel\u001b[0m \u001b[1;33m=\u001b[0m \u001b[1;34m'Haptic BL'\u001b[0m\u001b[1;33m\u001b[0m\u001b[1;33m\u001b[0m\u001b[0m\n",
      "\u001b[1;31mNameError\u001b[0m: name 'principalSMX_h_Lat' is not defined"
     ]
    },
    {
     "data": {
      "image/png": "[encoded data removed]",
      "text/plain": [
       "<Figure size 900x900 with 1 Axes>"
      ]
     },
     "metadata": {},
     "output_type": "display_data"
    }
   ],
   "source": [
    "\n",
    "\n",
    "fig = plt.figure(figsize = (9,9))\n",
    "ax = fig.add_subplot(1,1,1) \n",
    "ax.set_xlabel('Principal Component 1', fontsize = 8)\n",
    "ax.set_ylabel('Principal Component 2', fontsize = 8)\n",
    "ax.set_title('UK Haptic Latent Space H-V (25-1) Corr=0.9261 Moly=76.78%', fontsize = 15)\n",
    "#ax.set_title('BL Haptic Latent Space H-V (25-1) Corr=0.9931 Moly=98.61%', fontsize = 15)\n",
    "\n",
    "\n",
    "\n",
    "ax.set_xlim(-0.5,0.5)\n",
    "ax.set_ylim(-0.5,0.5)\n",
    "\n",
    "\n",
    "ax.scatter(principalSMX_h_Lat.loc[:,'principal component 1']\n",
    "               , principalSMX_h_Lat.loc[:,'principal component 2']\n",
    "               , c = 'tab:orange', label = 'Haptic BL'\n",
    "               , s = 100)\n",
    "\n",
    "#ax.scatter(principalSMX_h_BL.loc[:,'principal component 1']\n",
    "#               , principalSMX_h_BL.loc[:,'principal component 2']\n",
    "#               , c = 'tab:orange', label = 'Haptic BL'\n",
    "#               , s = 100)\n",
    "\n",
    "#ax.scatter(principalSMX_v_BL.loc[:,'principal component 1']\n",
    "#           , principalSMX_v_BL.loc[:,'principal component 2']\n",
    "#               , c = 'tab:green', label = 'Visual BL'\n",
    "#               , s = 100)\n",
    "\n",
    "#ax.scatter(principalSMX_h_UK.loc[:,'principal component 1']\n",
    "#               , principalSMX_h_UK.loc[:,'principal component 2']\n",
    "#               , c = 'tab:red', label = 'Haptic UK'\n",
    "#               , s = 100)\n",
    "\n",
    "#ax.scatter(principalSMX_v_UK.loc[:,'principal component 1']\n",
    "#           , principalSMX_v_UK.loc[:,'principal component 2']\n",
    "#               , c = 'tab:blue', label = 'Visual UK'\n",
    "#               , s = 100)\n",
    "\n",
    "\n",
    "ax.legend()\n",
    "ax.grid()\n",
    "\n",
    "#for i, label in enumerate(objectes_BL):\n",
    "#    plt.annotate(label, (principalSMX_h_BL.loc[i,'principal component 1']+0.02\n",
    "#               , principalSMX_h_BL.loc[i,'principal component 2']))\n",
    "    \n",
    "\n",
    "#for i, label in enumerate(objectes_BL):\n",
    "#    plt.annotate(label, (principalSMX_v_BL.loc[i,'principal component 1']-0.1\n",
    "#               , principalSMX_v_BL.loc[i,'principal component 2']))\n",
    "    \n",
    "#for i, label in enumerate(objectes_UK):\n",
    "#    plt.annotate(label, (principalSMX_h_UK.loc[i,'principal component 1']+0.01\n",
    "#               , principalSMX_h_UK.loc[i,'principal component 2']))\n",
    "    \n",
    "\n",
    "#for i, label in enumerate(objectes_UK):\n",
    "#    plt.annotate(label, (principalSMX_v_UK.loc[i,'principal component 1']-0.03\n",
    "#              , principalSMX_v_UK.loc[i,'principal component 2']))\n",
    "    \n"
   ]
  },
  {
   "cell_type": "code",
   "execution_count": null,
   "id": "78520d45",
   "metadata": {},
   "outputs": [],
   "source": []
  }
 ],
 "metadata": {
  "kernelspec": {
   "display_name": "Python 3 (ipykernel)",
   "language": "python",
   "name": "python3"
  },
  "language_info": {
   "codemirror_mode": {
    "name": "ipython",
    "version": 3
   },
   "file_extension": ".py",
   "mimetype": "text/x-python",
   "name": "python",
   "nbconvert_exporter": "python",
   "pygments_lexer": "ipython3",
   "version": "3.9.13"
  }
 },
 "nbformat": 4,
 "nbformat_minor": 5
}
