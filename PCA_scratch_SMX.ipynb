{
 "cells": [
  {
   "cell_type": "markdown",
   "id": "c1cded24",
   "metadata": {},
   "source": [
    "# PCA from scracth on SMX "
   ]
  },
  {
   "cell_type": "code",
   "execution_count": 1,
   "id": "0562934f",
   "metadata": {},
   "outputs": [],
   "source": [
    "import numpy as np\n",
    "import pandas as pd\n",
    "from sklearn.preprocessing import StandardScaler\n",
    "import matplotlib.pyplot as plt\n",
    "from sklearn.decomposition import PCA"
   ]
  },
  {
   "cell_type": "markdown",
   "id": "b2cbf709",
   "metadata": {},
   "source": [
    "## Carreguem el Dataset"
   ]
  },
  {
   "cell_type": "code",
   "execution_count": 2,
   "id": "7005fac8",
   "metadata": {},
   "outputs": [
    {
     "data": {
      "text/plain": [
       "(9, 9)"
      ]
     },
     "execution_count": 2,
     "metadata": {},
     "output_type": "execute_result"
    }
   ],
   "source": [
    "#Haptic_BL\n",
    "SMX_h_BL = pd.read_csv('SMX_h_25.csv', names=['cub10','lat00','lat05','lat15','lat20','lon00','lon05','lon15','lon20'])\n",
    "SMX_h_BL.shape"
   ]
  },
  {
   "cell_type": "code",
   "execution_count": 3,
   "id": "a8f41f3b",
   "metadata": {},
   "outputs": [],
   "source": [
    "#Visual_BL\n",
    "SMX_v_BL = pd.read_csv('SMX_v_1.csv', names=['cub10','lat00','lat05','lat15','lat20','lon00','lon05','lon15','lon20'])"
   ]
  },
  {
   "cell_type": "code",
   "execution_count": 4,
   "id": "89da23ac",
   "metadata": {},
   "outputs": [],
   "source": [
    "#Haptic_UK\n",
    "SMX_h_UK = pd.read_csv('SMX_h_25_UK.csv', names=['cub10','lat00','lat05','lat15','lat20','lon00','lon05','lon15','lon20'])"
   ]
  },
  {
   "cell_type": "code",
   "execution_count": 5,
   "id": "82a4f496",
   "metadata": {},
   "outputs": [
    {
     "data": {
      "text/plain": [
       "(8, 9)"
      ]
     },
     "execution_count": 5,
     "metadata": {},
     "output_type": "execute_result"
    }
   ],
   "source": [
    "#Visual_UK\n",
    "SMX_v_UK = pd.read_csv('SMX_v_1_UK.csv', names=['cub10','lat00','lat05','lat15','lat20','lon00','lon05','lon15','lon20'])\n",
    "SMX_v_UK.shape"
   ]
  },
  {
   "cell_type": "markdown",
   "id": "a728521f",
   "metadata": {},
   "source": [
    "## Molyneux"
   ]
  },
  {
   "cell_type": "code",
   "execution_count": 6,
   "id": "9b5404fa",
   "metadata": {},
   "outputs": [],
   "source": [
    "# Normalització de les files (descriptors) de les matrius de similitud.\n",
    "\n",
    "SMX_h_BLn = SMX_h_BL / np.linalg.norm(SMX_h_BL, axis=-1)[:, np.newaxis]\n",
    "SMX_v_BLn = SMX_v_BL / np.linalg.norm(SMX_v_BL, axis=-1)[:, np.newaxis]\n",
    "SMX_h_UKn = SMX_h_UK / np.linalg.norm(SMX_h_UK, axis=-1)[:, np.newaxis]\n",
    "SMX_v_UKn = SMX_v_UK / np.linalg.norm(SMX_v_UK, axis=-1)[:, np.newaxis]\n"
   ]
  },
  {
   "cell_type": "code",
   "execution_count": 7,
   "id": "8fc2a540",
   "metadata": {},
   "outputs": [
    {
     "name": "stdout",
     "output_type": "stream",
     "text": [
      "          0         1         2         3         4         5         6  \\\n",
      "0  0.976629  0.122235  0.645301  0.506749  0.109516  0.520585  0.026482   \n",
      "1  0.083153  0.947995  0.554751  0.009444  0.001469  0.057955  0.578030   \n",
      "2  0.661798  0.600625  0.997769  0.034514  0.006994  0.641329  0.319457   \n",
      "3  0.505600  0.025321  0.013994  0.945451  0.263506  0.016170  0.041336   \n",
      "4  0.094677  0.017255  0.004231  0.282561  0.987809  0.012450  0.006581   \n",
      "5  0.529521  0.228902  0.671034  0.027654  0.005634  0.974517  0.380209   \n",
      "6  0.150942  0.415830  0.151213  0.334095  0.058905  0.474407  0.890655   \n",
      "7  0.153132  0.042518  0.062337  0.214723  0.710822  0.035638  0.193208   \n",
      "8  0.218210  0.010484  0.014073  0.523333  0.178685  0.012346  0.024201   \n",
      "\n",
      "          7         8  \n",
      "0  0.080713  0.288978  \n",
      "1  0.028211  0.017654  \n",
      "2  0.083086  0.028424  \n",
      "3  0.097285  0.624385  \n",
      "4  0.451772  0.314315  \n",
      "5  0.067566  0.020746  \n",
      "6  0.580273  0.143844  \n",
      "7  0.844794  0.639530  \n",
      "8  0.192956  0.843410  \n",
      "          0         1         2         3         4         5         6  \\\n",
      "0  0.701158  0.155938  0.800253  0.187545  0.681485  0.084565  0.230218   \n",
      "1  0.510892  0.989240  0.314165  0.982972  0.515172  0.992574  0.933533   \n",
      "2  0.592833  0.183969  0.860014  0.245996  0.783180  0.138346  0.301045   \n",
      "3  0.512222  0.988592  0.363006  0.992442  0.570284  0.994995  0.951394   \n",
      "4  0.649881  0.437106  0.893685  0.503074  0.938358  0.399347  0.565718   \n",
      "5  0.451220  0.982756  0.259088  0.977788  0.475297  0.994681  0.926744   \n",
      "6  0.541473  0.985573  0.414188  0.993991  0.617758  0.989356  0.958228   \n",
      "7  0.440434  0.980388  0.241656  0.973959  0.458418  0.993218  0.921176   \n",
      "\n",
      "          7  \n",
      "0  0.026282  \n",
      "1  0.991975  \n",
      "2  0.073511  \n",
      "3  0.989645  \n",
      "4  0.333341  \n",
      "5  0.997879  \n",
      "6  0.979418  \n",
      "7  0.997868  \n"
     ]
    }
   ],
   "source": [
    "# Producte de les matrius hàptica i visual. La visual està transposada perquè volem fer producte escalar de descriptors. \n",
    "# Els elements de la diagonal són la comparació dels descriptor hàptic i el visual de la mateixa figura. La component (i,j) \n",
    "# seria la comparació (via producte escalar) de la figura hàptica i amb la j. Per superar Moly cal que els valors de cada (i,i) \n",
    "# siguin més gran que els altres de la mateixa fila. El càlcul del ratio no està fet. \n",
    "\n",
    "#Cas BL\n",
    "Moly_BL = np.matmul(np.array(SMX_h_BLn),SMX_v_BLn.T)\n",
    "print(Moly_BL)\n",
    "\n",
    "#Cas UK\n",
    "Moly_UK = np.matmul(np.array(SMX_h_UKn),SMX_v_UKn.T)\n",
    "print(Moly_UK)"
   ]
  },
  {
   "cell_type": "markdown",
   "id": "5bcf1888",
   "metadata": {},
   "source": [
    "## Standardize dataset"
   ]
  },
  {
   "cell_type": "code",
   "execution_count": 8,
   "id": "b6a2fb2e",
   "metadata": {},
   "outputs": [],
   "source": [
    "# Hem estandaritzat les dades restant-les de la mitjana i dividint entre la desviació. Fent això els resultats són millors, \n",
    "# s'hauria de pensar per què?\n",
    "\n",
    "scaler = StandardScaler()\n",
    "\n",
    "scaler.fit(SMX_h_BL)\n",
    "SMX_h_BL_std  = scaler.transform(SMX_h_BL)\n",
    "\n",
    "scaler.fit(SMX_v_BL)\n",
    "SMX_v_BL_std  = scaler.transform(SMX_v_BL)\n",
    "\n",
    "scaler.fit(SMX_h_UK)\n",
    "SMX_h_UK_std  = scaler.transform(SMX_h_UK)\n",
    "\n",
    "scaler.fit(SMX_v_UK)\n",
    "SMX_v_UK_std  = scaler.transform(SMX_v_UK)"
   ]
  },
  {
   "cell_type": "markdown",
   "id": "49fc3864",
   "metadata": {},
   "source": [
    "## Calculem la matriu de covariàncies"
   ]
  },
  {
   "cell_type": "code",
   "execution_count": 9,
   "id": "8783394b",
   "metadata": {
    "scrolled": true
   },
   "outputs": [],
   "source": [
    "# Càlcul de les matrius de covariàncies a partir de les dades estandaritzades.\n",
    "\n",
    "cov_mat_h_BL = np.cov(SMX_h_BL_std.T, bias = 0)\n",
    "\n",
    "cov_mat_v_BL = np.cov(SMX_v_BL_std.T, bias = 0)\n",
    "\n",
    "cov_mat_h_UK = np.cov(SMX_h_UK_std.T, bias = 0)\n",
    "\n",
    "cov_mat_v_UK = np.cov(SMX_v_UK_std.T, bias = 0)"
   ]
  },
  {
   "cell_type": "markdown",
   "id": "b2026e65",
   "metadata": {},
   "source": [
    "## Calculem els vectors i valors propis de la matriu de covariàncies"
   ]
  },
  {
   "cell_type": "code",
   "execution_count": 10,
   "id": "36b3d122",
   "metadata": {},
   "outputs": [],
   "source": [
    "# Càlcul dels valors i vectors propis del Bl hàptic i visuals. Com volem visualitzar, és a dir, comparar, ho hem de \n",
    "# posar tot en la mateixa base per això només treballem amb el BL.\n",
    "\n",
    "eigen_val_h, eigen_vectors_h = np.linalg.eig(cov_mat_h_BL)\n",
    "eigen_val_v, eigen_vectors_v = np.linalg.eig(cov_mat_v_BL)"
   ]
  },
  {
   "cell_type": "markdown",
   "id": "a6a12a7c",
   "metadata": {
    "scrolled": true
   },
   "source": [
    "## PCA usant llibreria"
   ]
  },
  {
   "cell_type": "code",
   "execution_count": 11,
   "id": "183f99f3",
   "metadata": {
    "scrolled": false
   },
   "outputs": [
    {
     "name": "stdout",
     "output_type": "stream",
     "text": [
      "[[-0.58354271 -0.5435264  -0.59711281 -0.62478912 -0.47222616 -0.47028222\n",
      "   1.89354724  1.07548746 -0.25558435]\n",
      " [-0.58354271 -0.5435264   0.06034651 -0.62478912 -0.47222616  2.63820615\n",
      "  -0.70063513 -0.67555745 -0.58200693]\n",
      " [-0.5174493   0.94558702 -0.59711281 -0.62478912 -0.47222616  0.66070797\n",
      "   1.38397571 -0.67555745 -0.58200693]\n",
      " [-0.43101945 -0.5435264  -0.59711281 -0.62478912  0.48045924 -0.51885235\n",
      "  -0.70063513  2.34013101  0.33605658]\n",
      " [-0.58354271 -0.5435264  -0.59711281  1.14544672 -0.47222616 -0.51885235\n",
      "  -0.70063513 -0.57341316  2.68221888]\n",
      " [-0.49638656  2.50915612  1.18946143 -0.62478912 -0.47222616 -0.51885235\n",
      "   0.82807948 -0.67555745 -0.58200693]\n",
      " [ 2.32166232 -0.19358475  2.33286895 -0.62478912 -0.47222616 -0.2725324\n",
      "  -0.70063513 -0.38858065 -0.51570234]\n",
      " [ 1.30484056 -0.5435264  -0.59711281  2.29089344 -0.35049414 -0.4806901\n",
      "  -0.6311481  -0.67555745  0.08103894]\n",
      " [-0.43101945 -0.5435264  -0.59711281  0.31239456  2.70339185 -0.51885235\n",
      "  -0.67191382  0.24860514 -0.58200693]]\n",
      "[[-1.08910531  0.23498079 -0.64775915 -0.73152214  0.29014463  0.11670015\n",
      "   0.81200064  0.69136914 -0.2889966 ]\n",
      " [ 0.04146489  0.38740743  0.33537948 -0.34774828 -0.23881854  0.17320251\n",
      "   0.27949062 -0.18450189 -0.33060296]\n",
      " [-0.55376124  0.78339616  0.19111644 -1.00109983 -0.23400783  0.35690499\n",
      "   0.93281582  0.08656851 -0.7191543 ]\n",
      " [-0.90181537 -0.56394064 -1.13099476  0.11306927  0.67614271 -0.24333339\n",
      "   0.07833239  0.87518943  0.41444116]\n",
      " [ 0.30736883 -1.03834852 -0.57920364  1.12758379  0.47671117 -0.46859956\n",
      "  -0.99041333  0.19280654  0.91932711]\n",
      " [ 0.03582355  1.20354564  0.97087382 -1.12378608 -0.70562518  0.53905425\n",
      "   0.92190421 -0.50614549 -1.03445671]\n",
      " [ 1.62581918  0.48125774  1.61924449  0.30354915 -0.91127453  0.19870863\n",
      "  -0.56054412 -1.36413338 -0.28569424]\n",
      " [ 1.07827366 -0.79967592  0.19679746  1.26158696  0.03859654 -0.36968306\n",
      "  -1.24799763 -0.45819776  0.77483092]\n",
      " [-0.54406818 -0.68862267 -0.95545413  0.39836717  0.60813103 -0.30295451\n",
      "  -0.22558861  0.6670449   0.55030562]]\n"
     ]
    }
   ],
   "source": [
    "pca = PCA(n_components = 2) # Establim amb quantes components volem treballar.\n",
    "principalComponents = pca.fit_transform(SMX_h_BL_std) # Transformem les dades.\n",
    "pca.explained_variance_ratio_ # Ens indica el % d'informació de cada component.\n",
    "approximation = pca.inverse_transform(principalComponents) # Ens permet recuperar les dades a partir de la reducció de PCA feta.\n",
    "print(SMX_h_BL_std)\n",
    "print(approximation) # Aquí podem l'original amb la recuperada.\n"
   ]
  },
  {
   "cell_type": "markdown",
   "id": "6743b8f2",
   "metadata": {},
   "source": [
    "## Escollim la dimensionalitat més representativa"
   ]
  },
  {
   "cell_type": "code",
   "execution_count": 12,
   "id": "eaf75c77",
   "metadata": {},
   "outputs": [],
   "source": [
    "# Com volem visualitzar agafarem 2 components. \n",
    "n_components=2\n",
    "top_eigen_vectors_h = eigen_vectors_h[:,:n_components]\n",
    "top_eigen_vectors_v = eigen_vectors_v[:,:n_components]"
   ]
  },
  {
   "cell_type": "markdown",
   "id": "c1f6311b",
   "metadata": {},
   "source": [
    "## Passem les dades hàptiques i visuals a l'espai latent hàptic de dues dimensions."
   ]
  },
  {
   "cell_type": "code",
   "execution_count": 13,
   "id": "fc56768a",
   "metadata": {},
   "outputs": [],
   "source": [
    "transformed_ppal_h_BL = np.matmul(np.array(SMX_h_BL_std),top_eigen_vectors_h)\n",
    "transformed_ppal_v_BL = np.matmul(np.array(SMX_v_BL_std),top_eigen_vectors_h)\n",
    "transformed_ppal_h_UK = np.matmul(np.array(SMX_h_UK_std),top_eigen_vectors_h)\n",
    "transformed_ppal_v_UK = np.matmul(np.array(SMX_v_UK_std),top_eigen_vectors_h)"
   ]
  },
  {
   "cell_type": "markdown",
   "id": "5dbcff56",
   "metadata": {},
   "source": [
    "## Normalitzem els vectors de l'espai latent de cada mode i mirem correlació"
   ]
  },
  {
   "cell_type": "code",
   "execution_count": 14,
   "id": "8ed33875",
   "metadata": {},
   "outputs": [],
   "source": [
    "result_h_BL = transformed_ppal_h_BL / np.linalg.norm(transformed_ppal_h_BL, axis=-1)[:, np.newaxis]\n",
    "result_v_BL = transformed_ppal_v_BL / np.linalg.norm(transformed_ppal_v_BL, axis=-1)[:, np.newaxis]\n",
    "result_h_UK = transformed_ppal_h_UK / np.linalg.norm(transformed_ppal_h_UK, axis=-1)[:, np.newaxis]\n",
    "result_v_UK = transformed_ppal_v_UK / np.linalg.norm(transformed_ppal_v_UK, axis=-1)[:, np.newaxis]"
   ]
  },
  {
   "cell_type": "code",
   "execution_count": 15,
   "id": "5dd3a417",
   "metadata": {},
   "outputs": [
    {
     "name": "stdout",
     "output_type": "stream",
     "text": [
      "0.9881810251547116\n"
     ]
    }
   ],
   "source": [
    "# Correlació de les matrius de similitud de BL a l'espai latent.\n",
    "corr = 0\n",
    "for i in range(len(result_v_BL)):\n",
    "    corr += result_h_BL[i,:].dot(result_v_BL[i,:])\n",
    "    \n",
    "print(corr/len(result_v_BL))"
   ]
  },
  {
   "cell_type": "code",
   "execution_count": 16,
   "id": "60910b8d",
   "metadata": {},
   "outputs": [
    {
     "name": "stdout",
     "output_type": "stream",
     "text": [
      "0.751349828414538\n"
     ]
    }
   ],
   "source": [
    "# Correlació de les matrius de similitud UK a l'espai latent.\n",
    "corr = 0\n",
    "for i in range(len(result_v_UK)):\n",
    "    corr += result_h_UK[i,:].dot(result_v_UK[i,:])\n",
    "    \n",
    "print(corr/len(result_v_UK))"
   ]
  },
  {
   "cell_type": "markdown",
   "id": "27ede390",
   "metadata": {},
   "source": [
    "## Panderitzem les dades abans de fer el plot"
   ]
  },
  {
   "cell_type": "code",
   "execution_count": 17,
   "id": "2e06d563",
   "metadata": {},
   "outputs": [],
   "source": [
    "principalSMX_h_BL = pd.DataFrame(data = transformed_ppal_h_BL\n",
    "             , columns = ['principal component 1', 'principal component 2'])"
   ]
  },
  {
   "cell_type": "code",
   "execution_count": 18,
   "id": "6ca75fd6",
   "metadata": {},
   "outputs": [],
   "source": [
    "principalSMX_v_BL = pd.DataFrame(data = transformed_ppal_v_BL\n",
    "             , columns = ['principal component 1', 'principal component 2'])"
   ]
  },
  {
   "cell_type": "code",
   "execution_count": 19,
   "id": "f543dbca",
   "metadata": {},
   "outputs": [],
   "source": [
    "principalSMX_h_UK = pd.DataFrame(data = transformed_ppal_h_UK\n",
    "             , columns = ['principal component 1', 'principal component 2'])"
   ]
  },
  {
   "cell_type": "code",
   "execution_count": 20,
   "id": "91ea01ed",
   "metadata": {},
   "outputs": [],
   "source": [
    "principalSMX_v_UK = pd.DataFrame(data = transformed_ppal_v_UK\n",
    "             , columns = ['principal component 1', 'principal component 2'])"
   ]
  },
  {
   "cell_type": "code",
   "execution_count": 21,
   "id": "ff7ad641",
   "metadata": {},
   "outputs": [],
   "source": [
    "objectes_BL =  ['cub10','lat00','lat05','lat15','lat20','lon00','lon05','lon15','lon20']"
   ]
  },
  {
   "cell_type": "code",
   "execution_count": 22,
   "id": "11403999",
   "metadata": {},
   "outputs": [],
   "source": [
    "objectes_UK =  ['00-15','00-20','05-15','05-20','15-15','15-20','20-15','20-20']"
   ]
  },
  {
   "cell_type": "markdown",
   "id": "49c38e30",
   "metadata": {},
   "source": [
    "## Plot"
   ]
  },
  {
   "cell_type": "code",
   "execution_count": 23,
   "id": "834857d2",
   "metadata": {},
   "outputs": [
    {
     "data": {
      "text/plain": [
       "\"for i, label in enumerate(objectes_UK):\\n    plt.annotate(label, (principalSMX_h_UK.loc[i,'principal component 1']+0.1\\n               , principalSMX_h_UK.loc[i,'principal component 2']))\\n    \\n\\nfor i, label in enumerate(objectes_UK):\\n    plt.annotate(label, (principalSMX_v_UK.loc[i,'principal component 1']-0.3\\n              , principalSMX_v_UK.loc[i,'principal component 2']))\\n\\n    \""
      ]
     },
     "execution_count": 23,
     "metadata": {},
     "output_type": "execute_result"
    },
    {
     "data": {
      "image/png": "[encoded data removed]",
      "text/plain": [
       "<Figure size 900x900 with 1 Axes>"
      ]
     },
     "metadata": {},
     "output_type": "display_data"
    }
   ],
   "source": [
    "fig = plt.figure(figsize = (9,9))\n",
    "ax = fig.add_subplot(1,1,1) \n",
    "ax.set_xlabel('Principal Component 1', fontsize = 8)\n",
    "ax.set_ylabel('Principal Component 2', fontsize = 8)\n",
    "ax.set_title('BL Visual Latent Space H-V (25-1) Corr=0.9881 Moly=98.61%', fontsize = 15)\n",
    "\n",
    "ax.set_xlim(-3,3)\n",
    "ax.set_ylim(-3,3)\n",
    "\n",
    "\n",
    "ax.scatter(principalSMX_h_BL.loc[:,'principal component 1']\n",
    "               , principalSMX_h_BL.loc[:,'principal component 2']\n",
    "               , c = 'tab:orange', label = 'Haptic BL'\n",
    "               , s = 100)\n",
    "\n",
    "\n",
    "\n",
    "ax.scatter(principalSMX_v_BL.loc[:,'principal component 1']\n",
    "           , principalSMX_v_BL.loc[:,'principal component 2']\n",
    "               , c = 'tab:green', label = 'Visual BL'\n",
    "               , s = 100)\n",
    "\n",
    "'''ax.scatter(principalSMX_h_UK.loc[:,'principal component 1']\n",
    "               , principalSMX_h_UK.loc[:,'principal component 2']\n",
    "               , c = 'tab:red', label = 'Haptic UK'\n",
    "               , s = 100)\n",
    "\n",
    "ax.scatter(principalSMX_v_UK.loc[:,'principal component 1']\n",
    "           , principalSMX_v_UK.loc[:,'principal component 2']\n",
    "               , c = 'tab:blue', label = 'Visual UK'\n",
    "               , s = 100)\n",
    "'''\n",
    "\n",
    "\n",
    "\n",
    "ax.legend()\n",
    "ax.grid()\n",
    "\n",
    "for i, label in enumerate(objectes_BL):\n",
    "    plt.annotate(label, (principalSMX_h_BL.loc[i,'principal component 1']+0.1\n",
    "               , principalSMX_h_BL.loc[i,'principal component 2']))\n",
    "\n",
    "for i, label in enumerate(objectes_BL):\n",
    "    plt.annotate(label, (principalSMX_v_BL.loc[i,'principal component 1']-0.4\n",
    "               , principalSMX_v_BL.loc[i,'principal component 2']))\n",
    "    \n",
    "'''for i, label in enumerate(objectes_UK):\n",
    "    plt.annotate(label, (principalSMX_h_UK.loc[i,'principal component 1']+0.1\n",
    "               , principalSMX_h_UK.loc[i,'principal component 2']))\n",
    "    \n",
    "\n",
    "for i, label in enumerate(objectes_UK):\n",
    "    plt.annotate(label, (principalSMX_v_UK.loc[i,'principal component 1']-0.3\n",
    "              , principalSMX_v_UK.loc[i,'principal component 2']))\n",
    "\n",
    "    '''\n",
    "\n"
   ]
  },
  {
   "cell_type": "code",
   "execution_count": null,
   "id": "78520d45",
   "metadata": {},
   "outputs": [],
   "source": []
  }
 ],
 "metadata": {
  "kernelspec": {
   "display_name": "Python 3 (ipykernel)",
   "language": "python",
   "name": "python3"
  },
  "language_info": {
   "codemirror_mode": {
    "name": "ipython",
    "version": 3
   },
   "file_extension": ".py",
   "mimetype": "text/x-python",
   "name": "python",
   "nbconvert_exporter": "python",
   "pygments_lexer": "ipython3",
   "version": "3.9.13"
  }
 },
 "nbformat": 4,
 "nbformat_minor": 5
}
