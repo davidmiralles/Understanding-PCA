{
 "cells": [
  {
   "cell_type": "markdown",
   "id": "0e525d05",
   "metadata": {},
   "source": [
    "# PCA from scracth on SMX "
   ]
  },
  {
   "cell_type": "code",
   "execution_count": 2,
   "id": "509d19a1",
   "metadata": {},
   "outputs": [],
   "source": [
    "import numpy as np\n",
    "import pandas as pd\n",
    "from sklearn.preprocessing import StandardScaler"
   ]
  },
  {
   "cell_type": "markdown",
   "id": "f0c6c3e9",
   "metadata": {},
   "source": [
    "# Carreguem el Dataset"
   ]
  },
  {
   "cell_type": "code",
   "execution_count": null,
   "id": "e4c1dffc",
   "metadata": {},
   "outputs": [],
   "source": []
  }
 ],
 "metadata": {
  "kernelspec": {
   "display_name": "Python 3 (ipykernel)",
   "language": "python",
   "name": "python3"
  },
  "language_info": {
   "codemirror_mode": {
    "name": "ipython",
    "version": 3
   },
   "file_extension": ".py",
   "mimetype": "text/x-python",
   "name": "python",
   "nbconvert_exporter": "python",
   "pygments_lexer": "ipython3",
   "version": "3.9.13"
  }
 },
 "nbformat": 4,
 "nbformat_minor": 5
}
