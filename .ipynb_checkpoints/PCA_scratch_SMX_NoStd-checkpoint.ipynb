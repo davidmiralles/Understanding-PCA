{
 "cells": [
  {
   "cell_type": "markdown",
   "id": "c1cded24",
   "metadata": {},
   "source": [
    "# PCA from scracth on SMX "
   ]
  },
  {
   "cell_type": "code",
   "execution_count": 32,
   "id": "0562934f",
   "metadata": {},
   "outputs": [],
   "source": [
    "import numpy as np\n",
    "import pandas as pd\n",
    "from sklearn.preprocessing import StandardScaler\n",
    "import matplotlib.pyplot as plt"
   ]
  },
  {
   "cell_type": "markdown",
   "id": "b2cbf709",
   "metadata": {},
   "source": [
    "## Carreguem el Dataset"
   ]
  },
  {
   "cell_type": "code",
   "execution_count": 33,
   "id": "7005fac8",
   "metadata": {},
   "outputs": [],
   "source": [
    "#Haptic_BL\n",
    "SMX_h_BL = pd.read_csv('SMX_h_25.csv', names=['cub10','lat00','lat05','lat15','lat20','lon00','lon05','lon15','lon20'])"
   ]
  },
  {
   "cell_type": "code",
   "execution_count": 34,
   "id": "a8f41f3b",
   "metadata": {},
   "outputs": [],
   "source": [
    "#Visual_BL\n",
    "SMX_v_BL = pd.read_csv('SMX_v_1.csv', names=['cub10','lat00','lat05','lat15','lat20','lon00','lon05','lon15','lon20'])"
   ]
  },
  {
   "cell_type": "code",
   "execution_count": 35,
   "id": "89da23ac",
   "metadata": {},
   "outputs": [],
   "source": [
    "#Haptic_UK\n",
    "SMX_h_UK = pd.read_csv('SMX_h_25_UK.csv', names=['cub10','lat00','lat05','lat15','lat20','lon00','lon05','lon15','lon20'])"
   ]
  },
  {
   "cell_type": "code",
   "execution_count": 36,
   "id": "82a4f496",
   "metadata": {},
   "outputs": [],
   "source": [
    "#Visual_UK\n",
    "SMX_v_UK = pd.read_csv('SMX_v_1_UK.csv', names=['cub10','lat00','lat05','lat15','lat20','lon00','lon05','lon15','lon20'])"
   ]
  },
  {
   "cell_type": "markdown",
   "id": "5bcf1888",
   "metadata": {},
   "source": [
    "## Standardize dataset"
   ]
  },
  {
   "cell_type": "code",
   "execution_count": 37,
   "id": "b6a2fb2e",
   "metadata": {},
   "outputs": [],
   "source": [
    "scaler = StandardScaler()"
   ]
  },
  {
   "cell_type": "code",
   "execution_count": 38,
   "id": "b1baf3b0",
   "metadata": {},
   "outputs": [],
   "source": [
    "scaler.fit(SMX_h_BL)\n",
    "SMX_h_BL_std  = scaler.transform(SMX_h_BL)"
   ]
  },
  {
   "cell_type": "code",
   "execution_count": 39,
   "id": "b149b8aa",
   "metadata": {},
   "outputs": [],
   "source": [
    "scaler.fit(SMX_v_BL)\n",
    "SMX_v_BL_std  = scaler.transform(SMX_v_BL)"
   ]
  },
  {
   "cell_type": "code",
   "execution_count": 40,
   "id": "5910135f",
   "metadata": {},
   "outputs": [],
   "source": [
    "scaler.fit(SMX_h_UK)\n",
    "SMX_h_UK_std  = scaler.transform(SMX_h_UK)"
   ]
  },
  {
   "cell_type": "code",
   "execution_count": 41,
   "id": "caa6a1fc",
   "metadata": {},
   "outputs": [],
   "source": [
    "scaler.fit(SMX_v_UK)\n",
    "SMX_v_UK_std  = scaler.transform(SMX_v_UK)"
   ]
  },
  {
   "cell_type": "markdown",
   "id": "49fc3864",
   "metadata": {},
   "source": [
    "## Calculem la matriu de covariàncies"
   ]
  },
  {
   "cell_type": "code",
   "execution_count": 42,
   "id": "8783394b",
   "metadata": {
    "scrolled": true
   },
   "outputs": [],
   "source": [
    "cov_mat_h_BL = np.cov(SMX_h_BL_std.T, bias = 0)"
   ]
  },
  {
   "cell_type": "code",
   "execution_count": 43,
   "id": "bf1f311e",
   "metadata": {
    "scrolled": true
   },
   "outputs": [],
   "source": [
    "cov_mat_v_BL = np.cov(SMX_v_BL_std.T, bias = 0)"
   ]
  },
  {
   "cell_type": "markdown",
   "id": "b2026e65",
   "metadata": {},
   "source": [
    "## Calculem els vectors i valors propis de la matriu de covariàncies"
   ]
  },
  {
   "cell_type": "code",
   "execution_count": 44,
   "id": "36b3d122",
   "metadata": {},
   "outputs": [],
   "source": [
    "eigen_val_h, eigen_vectors_h = np.linalg.eig(cov_mat_h_BL)"
   ]
  },
  {
   "cell_type": "code",
   "execution_count": 45,
   "id": "7d16bf5f",
   "metadata": {},
   "outputs": [
    {
     "name": "stdout",
     "output_type": "stream",
     "text": [
      "[2.85421378e+00 2.28250008e+00 1.61733260e+00 1.42237058e+00\n",
      " 9.85434723e-01 6.98494717e-01 8.36560501e-17 3.96048228e-02\n",
      " 2.25048696e-01]\n"
     ]
    }
   ],
   "source": [
    "print(eigen_val_h)"
   ]
  },
  {
   "cell_type": "code",
   "execution_count": 46,
   "id": "0a324bf8",
   "metadata": {},
   "outputs": [],
   "source": [
    "eigen_val_v, eigen_vectors_v = np.linalg.eig(cov_mat_v_BL)"
   ]
  },
  {
   "cell_type": "markdown",
   "id": "6743b8f2",
   "metadata": {},
   "source": [
    "## Escollim la dimensionalitat més representativa"
   ]
  },
  {
   "cell_type": "code",
   "execution_count": 47,
   "id": "eaf75c77",
   "metadata": {},
   "outputs": [],
   "source": [
    "n_components=2"
   ]
  },
  {
   "cell_type": "code",
   "execution_count": 48,
   "id": "db863991",
   "metadata": {},
   "outputs": [],
   "source": [
    "top_eigen_vectors_h = eigen_vectors_h[:,:n_components]"
   ]
  },
  {
   "cell_type": "code",
   "execution_count": 49,
   "id": "c30087e3",
   "metadata": {},
   "outputs": [],
   "source": [
    "top_eigen_vectors_v = eigen_vectors_v[:,:n_components]"
   ]
  },
  {
   "cell_type": "code",
   "execution_count": 50,
   "id": "8d503d58",
   "metadata": {},
   "outputs": [],
   "source": [
    "#Poden tenir components imaginàries. Agafem la part real.\n",
    "top_eigen_vectors_vr = top_eigen_vectors_v.real"
   ]
  },
  {
   "cell_type": "markdown",
   "id": "c1f6311b",
   "metadata": {},
   "source": [
    "## Tranformem les dades hàptiques i visuals en l'espai latent hàptic"
   ]
  },
  {
   "cell_type": "code",
   "execution_count": 51,
   "id": "fc56768a",
   "metadata": {},
   "outputs": [],
   "source": [
    "transformed_ppal_h_BL = np.matmul(np.array(SMX_h_BL_std),top_eigen_vectors_h)"
   ]
  },
  {
   "cell_type": "code",
   "execution_count": 52,
   "id": "a7edeb18",
   "metadata": {},
   "outputs": [],
   "source": [
    "transformed_ppal_v_BL = np.matmul(np.array(SMX_v_BL_std),top_eigen_vectors_h)\n",
    "#print(transformed_ppal_v)"
   ]
  },
  {
   "cell_type": "code",
   "execution_count": 53,
   "id": "23e4576e",
   "metadata": {},
   "outputs": [],
   "source": [
    "transformed_ppal_h_UK = np.matmul(np.array(SMX_h_UK_std),top_eigen_vectors_h)"
   ]
  },
  {
   "cell_type": "code",
   "execution_count": 54,
   "id": "845adccb",
   "metadata": {},
   "outputs": [],
   "source": [
    "transformed_ppal_v_UK = np.matmul(np.array(SMX_v_UK_std),top_eigen_vectors_h)\n",
    "#print(transformed_ppal_v)"
   ]
  },
  {
   "cell_type": "code",
   "execution_count": 55,
   "id": "2214d84c",
   "metadata": {},
   "outputs": [],
   "source": [
    "#inv=np.linalg.pinv(top_eigen_vectors_v)\n",
    "#predict_visual=np.matmul(transformed_ppal_h,inv)\n",
    "#transformed_ppal_v2 = np.matmul(predict_visual,top_eigen_vectors_v)\n",
    "#print(transformed_ppal_v2)"
   ]
  },
  {
   "cell_type": "markdown",
   "id": "5dbcff56",
   "metadata": {},
   "source": [
    "## Normalitzem els vectors de l'espai latent de cada mode i mirem correlació"
   ]
  },
  {
   "cell_type": "code",
   "execution_count": 56,
   "id": "8ed33875",
   "metadata": {},
   "outputs": [],
   "source": [
    "result_h_BL = transformed_ppal_h_BL / np.linalg.norm(transformed_ppal_h_BL, axis=-1)[:, np.newaxis]"
   ]
  },
  {
   "cell_type": "code",
   "execution_count": 57,
   "id": "c302c6ea",
   "metadata": {},
   "outputs": [],
   "source": [
    "result_v_BL = transformed_ppal_v_BL / np.linalg.norm(transformed_ppal_v_BL, axis=-1)[:, np.newaxis]"
   ]
  },
  {
   "cell_type": "code",
   "execution_count": 58,
   "id": "1b1e68a9",
   "metadata": {},
   "outputs": [],
   "source": [
    "result_h_UK = transformed_ppal_h_UK / np.linalg.norm(transformed_ppal_h_UK, axis=-1)[:, np.newaxis]"
   ]
  },
  {
   "cell_type": "code",
   "execution_count": 59,
   "id": "93d3e28b",
   "metadata": {},
   "outputs": [],
   "source": [
    "result_v_UK = transformed_ppal_v_UK / np.linalg.norm(transformed_ppal_v_UK, axis=-1)[:, np.newaxis]"
   ]
  },
  {
   "cell_type": "code",
   "execution_count": 60,
   "id": "3e700091",
   "metadata": {},
   "outputs": [],
   "source": [
    "#result_v2 = transformed_ppal_v2 / np.linalg.norm(transformed_ppal_v2, axis=-1)[:, np.newaxis]\n",
    "#print(result_v2)"
   ]
  },
  {
   "cell_type": "code",
   "execution_count": 61,
   "id": "5dd3a417",
   "metadata": {},
   "outputs": [
    {
     "name": "stdout",
     "output_type": "stream",
     "text": [
      "0.9881810251547116\n"
     ]
    }
   ],
   "source": [
    "corr = 0\n",
    "for i in range(len(result_v_BL)):\n",
    "    corr += result_h_BL[i,:].dot(result_v_BL[i,:])\n",
    "    \n",
    "print(corr/len(result_v_BL))"
   ]
  },
  {
   "cell_type": "code",
   "execution_count": 62,
   "id": "60910b8d",
   "metadata": {},
   "outputs": [
    {
     "name": "stdout",
     "output_type": "stream",
     "text": [
      "0.751349828414538\n"
     ]
    }
   ],
   "source": [
    "corr = 0\n",
    "for i in range(len(result_v_UK)):\n",
    "    corr += result_h_UK[i,:].dot(result_v_UK[i,:])\n",
    "    \n",
    "print(corr/len(result_v_UK))"
   ]
  },
  {
   "cell_type": "markdown",
   "id": "27ede390",
   "metadata": {},
   "source": [
    "## Panderitzem les dades abans de fer el plot"
   ]
  },
  {
   "cell_type": "code",
   "execution_count": 63,
   "id": "2e06d563",
   "metadata": {},
   "outputs": [],
   "source": [
    "principalSMX_h_BL = pd.DataFrame(data = transformed_ppal_h_BL\n",
    "             , columns = ['principal component 1', 'principal component 2'])"
   ]
  },
  {
   "cell_type": "code",
   "execution_count": 64,
   "id": "6ca75fd6",
   "metadata": {},
   "outputs": [],
   "source": [
    "principalSMX_v_BL = pd.DataFrame(data = transformed_ppal_v_BL\n",
    "             , columns = ['principal component 1', 'principal component 2'])"
   ]
  },
  {
   "cell_type": "code",
   "execution_count": 65,
   "id": "f543dbca",
   "metadata": {},
   "outputs": [],
   "source": [
    "principalSMX_h_UK = pd.DataFrame(data = transformed_ppal_h_UK\n",
    "             , columns = ['principal component 1', 'principal component 2'])"
   ]
  },
  {
   "cell_type": "code",
   "execution_count": 66,
   "id": "91ea01ed",
   "metadata": {},
   "outputs": [],
   "source": [
    "principalSMX_v_UK = pd.DataFrame(data = transformed_ppal_v_UK\n",
    "             , columns = ['principal component 1', 'principal component 2'])"
   ]
  },
  {
   "cell_type": "code",
   "execution_count": 67,
   "id": "ff7ad641",
   "metadata": {},
   "outputs": [],
   "source": [
    "objectes_BL =  ['cub10','lat00','lat05','lat15','lat20','lon00','lon05','lon15','lon20']"
   ]
  },
  {
   "cell_type": "code",
   "execution_count": 68,
   "id": "11403999",
   "metadata": {},
   "outputs": [],
   "source": [
    "objectes_UK =  ['00-15','00-20','05-15','05-20','15-15','15-20','20-15','20-20']"
   ]
  },
  {
   "cell_type": "markdown",
   "id": "49c38e30",
   "metadata": {},
   "source": [
    "## Plot"
   ]
  },
  {
   "cell_type": "code",
   "execution_count": 70,
   "id": "834857d2",
   "metadata": {},
   "outputs": [
    {
     "data": {
      "image/png": "[encoded data removed]",
      "text/plain": [
       "<Figure size 900x900 with 1 Axes>"
      ]
     },
     "metadata": {},
     "output_type": "display_data"
    }
   ],
   "source": [
    "fig = plt.figure(figsize = (9,9))\n",
    "ax = fig.add_subplot(1,1,1) \n",
    "ax.set_xlabel('Principal Component 1', fontsize = 8)\n",
    "ax.set_ylabel('Principal Component 2', fontsize = 8)\n",
    "ax.set_title('UK Visual Latent Space H-V (25-1) Corr=0.6816 Moly=82.14%', fontsize = 15)\n",
    "\n",
    "ax.set_xlim(-3,3)\n",
    "ax.set_ylim(-3,3)\n",
    "\n",
    "\n",
    "#ax.scatter(principalSMX_h_BL.loc[:,'principal component 1']\n",
    "#               , principalSMX_h_BL.loc[:,'principal component 2']\n",
    "#               , c = 'tab:orange', label = 'Haptic BL'\n",
    "#               , s = 100)\n",
    "\n",
    "#ax.scatter(principalSMX_v_BL.loc[:,'principal component 1']\n",
    "#           , principalSMX_v_BL.loc[:,'principal component 2']\n",
    "#               , c = 'tab:green', label = 'Visual BL'\n",
    "#               , s = 100)\n",
    "\n",
    "ax.scatter(principalSMX_h_UK.loc[:,'principal component 1']\n",
    "               , principalSMX_h_UK.loc[:,'principal component 2']\n",
    "               , c = 'tab:red', label = 'Haptic UK'\n",
    "               , s = 100)\n",
    "\n",
    "#ax.scatter(principalSMX_v_UK.loc[:,'principal component 1']\n",
    "#           , principalSMX_v_UK.loc[:,'principal component 2']\n",
    "#               , c = 'tab:blue', label = 'Visual UK'\n",
    "#               , s = 100)\n",
    "\n",
    "\n",
    "ax.legend()\n",
    "ax.grid()\n",
    "\n",
    "for i, label in enumerate(objectes_BL):\n",
    "    plt.annotate(label, (principalSMX_h_BL.loc[i,'principal component 1']+0.1\n",
    "               , principalSMX_h_BL.loc[i,'principal component 2']))\n",
    "    \n",
    "\n",
    "#for i, label in enumerate(objectes_BL):\n",
    "#    plt.annotate(label, (principalSMX_v_BL.loc[i,'principal component 1']-0.4\n",
    "#               , principalSMX_v_BL.loc[i,'principal component 2']))\n",
    "    \n",
    "for i, label in enumerate(objectes_UK):\n",
    "    plt.annotate(label, (principalSMX_h_UK.loc[i,'principal component 1']+0.1\n",
    "               , principalSMX_h_UK.loc[i,'principal component 2']))\n",
    "    \n",
    "\n",
    "#for i, label in enumerate(objectes_UK):\n",
    "#    plt.annotate(label, (principalSMX_v_UK.loc[i,'principal component 1']-0.4\n",
    "#               , principalSMX_v_UK.loc[i,'principal component 2']))\n",
    "    \n"
   ]
  },
  {
   "cell_type": "code",
   "execution_count": null,
   "id": "78520d45",
   "metadata": {},
   "outputs": [],
   "source": []
  }
 ],
 "metadata": {
  "kernelspec": {
   "display_name": "Python 3 (ipykernel)",
   "language": "python",
   "name": "python3"
  },
  "language_info": {
   "codemirror_mode": {
    "name": "ipython",
    "version": 3
   },
   "file_extension": ".py",
   "mimetype": "text/x-python",
   "name": "python",
   "nbconvert_exporter": "python",
   "pygments_lexer": "ipython3",
   "version": "3.9.13"
  }
 },
 "nbformat": 4,
 "nbformat_minor": 5
}
