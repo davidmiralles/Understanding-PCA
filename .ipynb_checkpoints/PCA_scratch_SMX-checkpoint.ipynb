{
 "cells": [
  {
   "cell_type": "markdown",
   "id": "c1cded24",
   "metadata": {},
   "source": [
    "# PCA from scracth on SMX "
   ]
  },
  {
   "cell_type": "code",
   "execution_count": 1,
   "id": "0562934f",
   "metadata": {},
   "outputs": [],
   "source": [
    "import numpy as np\n",
    "import pandas as pd\n",
    "from sklearn.preprocessing import StandardScaler\n",
    "import matplotlib.pyplot as plt"
   ]
  },
  {
   "cell_type": "markdown",
   "id": "b2cbf709",
   "metadata": {},
   "source": [
    "## Carreguem el Dataset"
   ]
  },
  {
   "cell_type": "code",
   "execution_count": 2,
   "id": "7005fac8",
   "metadata": {},
   "outputs": [],
   "source": [
    "#Haptic_BL\n",
    "SMX_h_BL = pd.read_csv('SMX_h_25.csv', names=['cub10','lat00','lat05','lat15','lat20','lon00','lon05','lon15','lon20'])"
   ]
  },
  {
   "cell_type": "code",
   "execution_count": 3,
   "id": "a8f41f3b",
   "metadata": {},
   "outputs": [],
   "source": [
    "#Visual_BL\n",
    "SMX_v_BL = pd.read_csv('SMX_v_1.csv', names=['cub10','lat00','lat05','lat15','lat20','lon00','lon05','lon15','lon20'])"
   ]
  },
  {
   "cell_type": "code",
   "execution_count": 4,
   "id": "89da23ac",
   "metadata": {},
   "outputs": [],
   "source": [
    "#Haptic_UK\n",
    "SMX_h_UK = pd.read_csv('SMX_h_25_UK.csv', names=['cub10','lat00','lat05','lat15','lat20','lon00','lon05','lon15','lon20'])"
   ]
  },
  {
   "cell_type": "code",
   "execution_count": 5,
   "id": "82a4f496",
   "metadata": {},
   "outputs": [],
   "source": [
    "#Visual_UK\n",
    "SMX_v_UK = pd.read_csv('SMX_v_1_UK.csv', names=['cub10','lat00','lat05','lat15','lat20','lon00','lon05','lon15','lon20'])"
   ]
  },
  {
   "cell_type": "code",
   "execution_count": 64,
   "id": "cb2e197c",
   "metadata": {},
   "outputs": [
    {
     "data": {
      "text/plain": [
       "(8, 9)"
      ]
     },
     "execution_count": 64,
     "metadata": {},
     "output_type": "execute_result"
    }
   ],
   "source": [
    "#Visual_UK\n",
    "SMX_v_UK.shape"
   ]
  },
  {
   "cell_type": "markdown",
   "id": "5bcf1888",
   "metadata": {},
   "source": [
    "## Standardize dataset"
   ]
  },
  {
   "cell_type": "code",
   "execution_count": 6,
   "id": "b6a2fb2e",
   "metadata": {},
   "outputs": [],
   "source": [
    "scaler = StandardScaler()"
   ]
  },
  {
   "cell_type": "code",
   "execution_count": 7,
   "id": "b1baf3b0",
   "metadata": {},
   "outputs": [],
   "source": [
    "scaler.fit(SMX_h_BL)\n",
    "SMX_h_BL_std  = scaler.transform(SMX_h_BL)"
   ]
  },
  {
   "cell_type": "code",
   "execution_count": 8,
   "id": "b149b8aa",
   "metadata": {},
   "outputs": [],
   "source": [
    "scaler.fit(SMX_v_BL)\n",
    "SMX_v_BL_std  = scaler.transform(SMX_v_BL)"
   ]
  },
  {
   "cell_type": "code",
   "execution_count": 9,
   "id": "5910135f",
   "metadata": {},
   "outputs": [],
   "source": [
    "scaler.fit(SMX_h_UK)\n",
    "SMX_h_UK_std  = scaler.transform(SMX_h_UK)"
   ]
  },
  {
   "cell_type": "code",
   "execution_count": 67,
   "id": "caa6a1fc",
   "metadata": {},
   "outputs": [],
   "source": [
    "scaler.fit(SMX_v_UK)\n",
    "SMX_v_UK_std  = scaler.transform(SMX_v_UK)"
   ]
  },
  {
   "cell_type": "markdown",
   "id": "49fc3864",
   "metadata": {},
   "source": [
    "## Calculem la matriu de covariàncies"
   ]
  },
  {
   "cell_type": "code",
   "execution_count": 11,
   "id": "8783394b",
   "metadata": {
    "scrolled": true
   },
   "outputs": [],
   "source": [
    "cov_mat_h_BL = np.cov(SMX_h_BL_std.T, bias = 0)"
   ]
  },
  {
   "cell_type": "code",
   "execution_count": 12,
   "id": "bf1f311e",
   "metadata": {
    "scrolled": true
   },
   "outputs": [],
   "source": [
    "cov_mat_v_BL = np.cov(SMX_v_BL_std.T, bias = 0)"
   ]
  },
  {
   "cell_type": "markdown",
   "id": "b2026e65",
   "metadata": {},
   "source": [
    "## Calculem els vectors i valors propis de la matriu de covariàncies"
   ]
  },
  {
   "cell_type": "code",
   "execution_count": 13,
   "id": "36b3d122",
   "metadata": {},
   "outputs": [],
   "source": [
    "eigen_val_h, eigen_vectors_h = np.linalg.eig(cov_mat_h_BL)"
   ]
  },
  {
   "cell_type": "code",
   "execution_count": 103,
   "id": "7d16bf5f",
   "metadata": {},
   "outputs": [
    {
     "name": "stdout",
     "output_type": "stream",
     "text": [
      "[2.85421378e+00 2.28250008e+00 1.61733260e+00 1.42237058e+00\n",
      " 9.85434723e-01 6.98494717e-01 8.36560501e-17 3.96048228e-02\n",
      " 2.25048696e-01]\n"
     ]
    }
   ],
   "source": [
    "print(eigen_val_h)"
   ]
  },
  {
   "cell_type": "code",
   "execution_count": 14,
   "id": "0a324bf8",
   "metadata": {},
   "outputs": [],
   "source": [
    "eigen_val_v, eigen_vectors_v = np.linalg.eig(cov_mat_v_BL)"
   ]
  },
  {
   "cell_type": "markdown",
   "id": "6743b8f2",
   "metadata": {},
   "source": [
    "## Escollim la dimensionalitat més representativa"
   ]
  },
  {
   "cell_type": "code",
   "execution_count": 247,
   "id": "eaf75c77",
   "metadata": {},
   "outputs": [],
   "source": [
    "n_components=2"
   ]
  },
  {
   "cell_type": "code",
   "execution_count": 248,
   "id": "db863991",
   "metadata": {},
   "outputs": [],
   "source": [
    "top_eigen_vectors_h = eigen_vectors_h[:,:n_components]"
   ]
  },
  {
   "cell_type": "code",
   "execution_count": 249,
   "id": "c30087e3",
   "metadata": {},
   "outputs": [],
   "source": [
    "top_eigen_vectors_v = eigen_vectors_v[:,:n_components]"
   ]
  },
  {
   "cell_type": "code",
   "execution_count": 250,
   "id": "6875973e",
   "metadata": {},
   "outputs": [
    {
     "name": "stdout",
     "output_type": "stream",
     "text": [
      "[[-0.02730191  0.59610377]\n",
      " [-0.46698823 -0.04018757]\n",
      " [-0.38694696  0.42386041]\n",
      " [ 0.42977908  0.31659155]\n",
      " [ 0.27902198 -0.20962109]\n",
      " [-0.2090186  -0.02424172]\n",
      " [-0.34998087 -0.37518462]\n",
      " [ 0.20605136 -0.41369888]\n",
      " [ 0.40031586  0.08196633]]\n",
      "[[ 0.18218988 -0.36806288]\n",
      " [-0.37346133  0.16204161]\n",
      " [-0.38014703 -0.22635261]\n",
      " [ 0.4319669  -0.1886589 ]\n",
      " [ 0.33404652  0.38736186]\n",
      " [-0.32410364 -0.2347739 ]\n",
      " [-0.32736659  0.39356956]\n",
      " [ 0.26507393  0.54510835]\n",
      " [ 0.31962947 -0.30697956]]\n"
     ]
    }
   ],
   "source": [
    "print(top_eigen_vectors_h)\n",
    "print(top_eigen_vectors_v) "
   ]
  },
  {
   "cell_type": "code",
   "execution_count": 240,
   "id": "8d503d58",
   "metadata": {},
   "outputs": [],
   "source": [
    "#Poden tenir components imaginàries. Agafem la part real.\n",
    "top_eigen_vectors_vr = top_eigen_vectors_v.real"
   ]
  },
  {
   "cell_type": "code",
   "execution_count": 118,
   "id": "b9632db9",
   "metadata": {},
   "outputs": [
    {
     "data": {
      "text/plain": [
       "(9, 2)"
      ]
     },
     "execution_count": 118,
     "metadata": {},
     "output_type": "execute_result"
    }
   ],
   "source": [
    "top_eigen_vectors_h.shape"
   ]
  },
  {
   "cell_type": "markdown",
   "id": "c1f6311b",
   "metadata": {},
   "source": [
    "## Tranformem les dades hàptiques i visuals en l'espai latent hàptic"
   ]
  },
  {
   "cell_type": "code",
   "execution_count": 261,
   "id": "fc56768a",
   "metadata": {},
   "outputs": [],
   "source": [
    "transformed_ppal_h_BL = np.matmul(np.array(SMX_h_BL_std),top_eigen_vectors_h)"
   ]
  },
  {
   "cell_type": "code",
   "execution_count": 262,
   "id": "a7edeb18",
   "metadata": {},
   "outputs": [
    {
     "name": "stdout",
     "output_type": "stream",
     "text": [
      "[[-2.36731522 -0.54125836]\n",
      " [-0.84895395  0.43401205]\n",
      " [-0.6439579  -0.04036862]\n",
      " [-0.25803594  0.17354255]\n",
      " [ 2.21313968 -0.49633974]\n",
      " [ 0.43466391  0.52673272]\n",
      " [ 1.26667325 -0.65369133]\n",
      " [ 0.20378616  0.59737073]]\n"
     ]
    }
   ],
   "source": [
    "transformed_ppal_v_BL = np.matmul(np.array(SMX_v_BL_std),top_eigen_vectors_h)\n",
    "#print(transformed_ppal_v)"
   ]
  },
  {
   "cell_type": "code",
   "execution_count": 261,
   "id": "895dc942",
   "metadata": {},
   "outputs": [],
   "source": [
    "transformed_ppal_h_UK = np.matmul(np.array(SMX_h_UK_std),top_eigen_vectors_h)"
   ]
  },
  {
   "cell_type": "code",
   "execution_count": 262,
   "id": "298af1d0",
   "metadata": {},
   "outputs": [
    {
     "name": "stdout",
     "output_type": "stream",
     "text": [
      "[[-2.36731522 -0.54125836]\n",
      " [-0.84895395  0.43401205]\n",
      " [-0.6439579  -0.04036862]\n",
      " [-0.25803594  0.17354255]\n",
      " [ 2.21313968 -0.49633974]\n",
      " [ 0.43466391  0.52673272]\n",
      " [ 1.26667325 -0.65369133]\n",
      " [ 0.20378616  0.59737073]]\n"
     ]
    }
   ],
   "source": [
    "transformed_ppal_v = np.matmul(np.array(SMX_v_UK_std),top_eigen_vectors_h)\n",
    "#print(transformed_ppal_v)"
   ]
  },
  {
   "cell_type": "code",
   "execution_count": 253,
   "id": "2214d84c",
   "metadata": {},
   "outputs": [
    {
     "name": "stdout",
     "output_type": "stream",
     "text": [
      "[[-2.5188002   0.46768298]\n",
      " [-0.79676687 -0.28411952]\n",
      " [-0.20415784  1.25990511]\n",
      " [ 0.02947053 -1.04920524]\n",
      " [ 1.38615493  0.79397732]\n",
      " [ 0.64990023 -0.43436095]\n",
      " [ 0.82457762 -0.28349053]\n",
      " [ 0.6296216  -0.47038917]]\n"
     ]
    }
   ],
   "source": [
    "#inv=np.linalg.pinv(top_eigen_vectors_v)\n",
    "#predict_visual=np.matmul(transformed_ppal_h,inv)\n",
    "#transformed_ppal_v2 = np.matmul(predict_visual,top_eigen_vectors_v)\n",
    "#print(transformed_ppal_v2)"
   ]
  },
  {
   "cell_type": "markdown",
   "id": "5dbcff56",
   "metadata": {},
   "source": [
    "## Normalitzem els vectors de l'espai latent de cada mode i mirem correlació"
   ]
  },
  {
   "cell_type": "code",
   "execution_count": 263,
   "id": "8ed33875",
   "metadata": {},
   "outputs": [],
   "source": [
    "result_h_BL = transformed_ppal_h_BL / np.linalg.norm(transformed_ppal_h_BL, axis=-1)[:, np.newaxis]"
   ]
  },
  {
   "cell_type": "code",
   "execution_count": 263,
   "id": "3cb39ad6",
   "metadata": {},
   "outputs": [],
   "source": [
    "result_v_BL = transformed_ppal_v_BL / np.linalg.norm(transformed_ppal_v_BL, axis=-1)[:, np.newaxis]"
   ]
  },
  {
   "cell_type": "code",
   "execution_count": 264,
   "id": "1b1e68a9",
   "metadata": {},
   "outputs": [
    {
     "name": "stdout",
     "output_type": "stream",
     "text": [
      "[[-0.9748444  -0.22288653]\n",
      " [-0.89039122  0.45519609]\n",
      " [-0.99804086 -0.06256548]\n",
      " [-0.82978952  0.55807648]\n",
      " [ 0.97576217 -0.2188337 ]\n",
      " [ 0.63647828  0.77129462]\n",
      " [ 0.88864225 -0.45860109]\n",
      " [ 0.32286845  0.94644385]]\n"
     ]
    }
   ],
   "source": [
    "result_h_UK = transformed_ppal_h_UK / np.linalg.norm(transformed_ppal_h_UK, axis=-1)[:, np.newaxis]"
   ]
  },
  {
   "cell_type": "code",
   "execution_count": 264,
   "id": "ac4ae3d0",
   "metadata": {},
   "outputs": [
    {
     "name": "stdout",
     "output_type": "stream",
     "text": [
      "[[-0.9748444  -0.22288653]\n",
      " [-0.89039122  0.45519609]\n",
      " [-0.99804086 -0.06256548]\n",
      " [-0.82978952  0.55807648]\n",
      " [ 0.97576217 -0.2188337 ]\n",
      " [ 0.63647828  0.77129462]\n",
      " [ 0.88864225 -0.45860109]\n",
      " [ 0.32286845  0.94644385]]\n"
     ]
    }
   ],
   "source": [
    "result_v_UK = transformed_ppal_v_UK / np.linalg.norm(transformed_ppal_v_UK, axis=-1)[:, np.newaxis]"
   ]
  },
  {
   "cell_type": "code",
   "execution_count": 255,
   "id": "3e700091",
   "metadata": {},
   "outputs": [
    {
     "name": "stdout",
     "output_type": "stream",
     "text": [
      "[[-0.98319534  0.18255665]\n",
      " [-0.94190658 -0.33587497]\n",
      " [-0.15995581  0.98712418]\n",
      " [ 0.02807736 -0.99960575]\n",
      " [ 0.86773335  0.49703001]\n",
      " [ 0.83140371 -0.55566884]\n",
      " [ 0.9456718  -0.32512282]\n",
      " [ 0.80111446 -0.59851118]]\n"
     ]
    }
   ],
   "source": [
    "#result_v2 = transformed_ppal_v2 / np.linalg.norm(transformed_ppal_v2, axis=-1)[:, np.newaxis]\n",
    "#print(result_v2)"
   ]
  },
  {
   "cell_type": "code",
   "execution_count": 265,
   "id": "5dd3a417",
   "metadata": {},
   "outputs": [
    {
     "name": "stdout",
     "output_type": "stream",
     "text": [
      "0.6816460980157382\n"
     ]
    }
   ],
   "source": [
    "corr = 0\n",
    "for i in range(len(result_v_BL)):\n",
    "    corr += result_h_BL[i,:].dot(result_v_BL[i,:])\n",
    "    \n",
    "print(corr/len(result_v_BL))"
   ]
  },
  {
   "cell_type": "code",
   "execution_count": 265,
   "id": "a7f75a4c",
   "metadata": {},
   "outputs": [
    {
     "name": "stdout",
     "output_type": "stream",
     "text": [
      "0.6816460980157382\n"
     ]
    }
   ],
   "source": [
    "corr = 0\n",
    "for i in range(len(result_v_UK)):\n",
    "    corr += result_h_UK[i,:].dot(result_v_UK[i,:])\n",
    "    \n",
    "print(corr/len(result_v_UK))"
   ]
  },
  {
   "cell_type": "markdown",
   "id": "27ede390",
   "metadata": {},
   "source": [
    "## Panderitzem les dades abans de fer el plot"
   ]
  },
  {
   "cell_type": "code",
   "execution_count": 193,
   "id": "2e06d563",
   "metadata": {},
   "outputs": [],
   "source": [
    "principalSMX_h_BL = pd.DataFrame(data = transformed_ppal_h_BL\n",
    "             , columns = ['principal component 1', 'principal component 2'])"
   ]
  },
  {
   "cell_type": "code",
   "execution_count": 224,
   "id": "6ca75fd6",
   "metadata": {},
   "outputs": [
    {
     "name": "stdout",
     "output_type": "stream",
     "text": [
      "   principal component 1  principal component 2\n",
      "0              -2.367315              -0.541258\n",
      "1              -0.848954               0.434012\n",
      "2              -0.643958              -0.040369\n",
      "3              -0.258036               0.173543\n",
      "4               2.213140              -0.496340\n",
      "5               0.434664               0.526733\n",
      "6               1.266673              -0.653691\n",
      "7               0.203786               0.597371\n"
     ]
    }
   ],
   "source": [
    "principalSMX_v_BL = pd.DataFrame(data = transformed_ppal_v_BL\n",
    "             , columns = ['principal component 1', 'principal component 2'])"
   ]
  },
  {
   "cell_type": "code",
   "execution_count": 193,
   "id": "53608da4",
   "metadata": {},
   "outputs": [],
   "source": [
    "principalSMX_h_UK = pd.DataFrame(data = transformed_ppal_h_UK\n",
    "             , columns = ['principal component 1', 'principal component 2'])"
   ]
  },
  {
   "cell_type": "code",
   "execution_count": 224,
   "id": "4d43e86c",
   "metadata": {},
   "outputs": [
    {
     "name": "stdout",
     "output_type": "stream",
     "text": [
      "   principal component 1  principal component 2\n",
      "0              -2.367315              -0.541258\n",
      "1              -0.848954               0.434012\n",
      "2              -0.643958              -0.040369\n",
      "3              -0.258036               0.173543\n",
      "4               2.213140              -0.496340\n",
      "5               0.434664               0.526733\n",
      "6               1.266673              -0.653691\n",
      "7               0.203786               0.597371\n"
     ]
    }
   ],
   "source": [
    "principalSMX_v_UK = pd.DataFrame(data = transformed_ppal_v_UK\n",
    "             , columns = ['principal component 1', 'principal component 2'])"
   ]
  },
  {
   "cell_type": "code",
   "execution_count": 149,
   "id": "ff7ad641",
   "metadata": {},
   "outputs": [],
   "source": [
    "objectes_BL =  ['cub10','lat00','lat05','lat15','lat20','lon00','lon05','lon15','lon20']"
   ]
  },
  {
   "cell_type": "code",
   "execution_count": 195,
   "id": "11403999",
   "metadata": {},
   "outputs": [],
   "source": [
    "objectes_UK =  ['00-15','00-20','05-15','05-20','15-15','15-20','20-15','20-20']"
   ]
  },
  {
   "cell_type": "markdown",
   "id": "49c38e30",
   "metadata": {},
   "source": [
    "## Plot"
   ]
  },
  {
   "cell_type": "code",
   "execution_count": 196,
   "id": "834857d2",
   "metadata": {},
   "outputs": [
    {
     "data": {
      "image/png": "[encoded data removed]",
      "text/plain": [
       "<Figure size 900x900 with 1 Axes>"
      ]
     },
     "metadata": {},
     "output_type": "display_data"
    }
   ],
   "source": [
    "fig = plt.figure(figsize = (9,9))\n",
    "ax = fig.add_subplot(1,1,1) \n",
    "ax.set_xlabel('Principal Component 1', fontsize = 8)\n",
    "ax.set_ylabel('Principal Component 2', fontsize = 8)\n",
    "ax.set_title('UK Visual Latent Space H-V (25-1) Corr=0.6816 Moly=82.14%', fontsize = 15)\n",
    "\n",
    "ax.set_xlim(-3,3)\n",
    "ax.set_ylim(-3,3)\n",
    "\n",
    "\n",
    "ax.scatter(principalSMX_h_BL.loc[:,'principal component 1']\n",
    "               , principalSMX_h_BL.loc[:,'principal component 2']\n",
    "               , c = 'tab:orange', label = 'Haptic BL'\n",
    "               , s = 100)\n",
    "\n",
    "ax.scatter(principalSMX_v_BL.loc[:,'principal component 1']\n",
    "           , principalSMX_v_BL.loc[:,'principal component 2']\n",
    "               , c = 'tab:green', label = 'Visual BL'\n",
    "               , s = 100)\n",
    "\n",
    "ax.scatter(principalSMX_h_UK.loc[:,'principal component 1']\n",
    "               , principalSMX_h_UK.loc[:,'principal component 2']\n",
    "               , c = 'tab:red', label = 'Haptic UK'\n",
    "               , s = 100)\n",
    "\n",
    "ax.scatter(principalSMX_v_UK.loc[:,'principal component 1']\n",
    "           , principalSMX_v_UK.loc[:,'principal component 2']\n",
    "               , c = 'tab:blue', label = 'Visual UK'\n",
    "               , s = 100)\n",
    "\n",
    "\n",
    "ax.legend()\n",
    "ax.grid()\n",
    "\n",
    "for i, label in enumerate(objectes_BL):\n",
    "    plt.annotate(label, (principalSMX_h_BL.loc[i,'principal component 1']+0.1\n",
    "               , principalSMX_h_BL.loc[i,'principal component 2']))\n",
    "    \n",
    "\n",
    "for i, label in enumerate(objectes_BL):\n",
    "    plt.annotate(label, (principalSMX_v_BL.loc[i,'principal component 1']-0.4\n",
    "               , principalSMX_v_BL.loc[i,'principal component 2']))\n",
    "    \n",
    "for i, label in enumerate(objectes_UK):\n",
    "    plt.annotate(label, (principalSMX_h_UK.loc[i,'principal component 1']+0.1\n",
    "               , principalSMX_h_UK.loc[i,'principal component 2']))\n",
    "    \n",
    "\n",
    "for i, label in enumerate(objectes_UK):\n",
    "    plt.annotate(label, (principalSMX_v_UK.loc[i,'principal component 1']-0.4\n",
    "               , principalSMX_v_UK.loc[i,'principal component 2']))\n",
    "    \n"
   ]
  },
  {
   "cell_type": "code",
   "execution_count": 226,
   "id": "98963435",
   "metadata": {},
   "outputs": [
    {
     "data": {
      "image/png": "[encoded data removed]",
      "text/plain": [
       "<Figure size 900x900 with 1 Axes>"
      ]
     },
     "metadata": {},
     "output_type": "display_data"
    }
   ],
   "source": [
    "fig = plt.figure(figsize = (9,9))\n",
    "ax = fig.add_subplot(1,1,1) \n",
    "ax.set_xlabel('Principal Component 1', fontsize = 8)\n",
    "ax.set_ylabel('Principal Component 2', fontsize = 8)\n",
    "ax.set_title('UK Visual Latent Space H-V (25-1) Corr=0.6816 Moly=82.14%', fontsize = 15)\n",
    "\n",
    "ax.set_xlim(-3,3)\n",
    "ax.set_ylim(-3,3)\n",
    "\n",
    "\n",
    "ax.scatter(principalSMX_v.loc[:,'principal component 1']\n",
    "               , principalSMX_v.loc[:,'principal component 2']\n",
    "               , c = 'tab:orange', label = 'Haptic'\n",
    "               , s = 100)\n",
    "\n",
    "ax.scatter(principalSMX_v2.loc[:,'principal component 1']\n",
    "           , principalSMX_v2.loc[:,'principal component 2']\n",
    "               , c = 'tab:green', label = 'visual'\n",
    "               , s = 100)\n",
    "\n",
    "\n",
    "ax.legend()\n",
    "ax.grid()\n",
    "\n",
    "for i, label in enumerate(objectes_UK):\n",
    "    plt.annotate(label, (principalSMX_v.loc[i,'principal component 1']+0.1\n",
    "               , principalSMX_h.loc[i,'principal component 2']))\n",
    "    \n",
    "\n",
    "for i, label in enumerate(objectes_UK):\n",
    "    plt.annotate(label, (principalSMX_v2.loc[i,'principal component 1']-0.4\n",
    "               , principalSMX_v.loc[i,'principal component 2']))\n",
    "    \n"
   ]
  },
  {
   "cell_type": "code",
   "execution_count": null,
   "id": "78520d45",
   "metadata": {},
   "outputs": [],
   "source": []
  }
 ],
 "metadata": {
  "kernelspec": {
   "display_name": "Python 3 (ipykernel)",
   "language": "python",
   "name": "python3"
  },
  "language_info": {
   "codemirror_mode": {
    "name": "ipython",
    "version": 3
   },
   "file_extension": ".py",
   "mimetype": "text/x-python",
   "name": "python",
   "nbconvert_exporter": "python",
   "pygments_lexer": "ipython3",
   "version": "3.9.13"
  }
 },
 "nbformat": 4,
 "nbformat_minor": 5
}
